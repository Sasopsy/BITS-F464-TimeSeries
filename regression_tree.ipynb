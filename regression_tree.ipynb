{
 "cells": [
  {
   "cell_type": "markdown",
   "id": "5fba63bd-3cc6-4c04-b9ab-002f475452b9",
   "metadata": {},
   "source": [
    "**DECISION TREE**"
   ]
  },
  {
   "cell_type": "markdown",
   "id": "556e4b32-fef8-45e5-9f3f-9fedfed8db99",
   "metadata": {},
   "source": [
    "Importing libraries"
   ]
  },
  {
   "cell_type": "code",
   "execution_count": 101,
   "id": "c705eb58-0bb4-421a-8f85-05e83f33142c",
   "metadata": {},
   "outputs": [],
   "source": [
    "import torch\n",
    "import tensorflow as tf\n",
    "from torch.utils.data import Dataset, DataLoader\n",
    "import pandas as pd\n",
    "import numpy as np\n",
    "from dataset import TimeSeriesDataset\n",
    "from dataset import NumpyToTensor\n",
    "import sklearn\n",
    "from sklearn.tree import DecisionTreeRegressor\n",
    "import math"
   ]
  },
  {
   "cell_type": "markdown",
   "id": "03f79351-93a3-4026-9152-992a84fb096c",
   "metadata": {},
   "source": [
    "Importing data"
   ]
  },
  {
   "cell_type": "code",
   "execution_count": 102,
   "id": "a20d694d-2031-4bd9-b223-aa06546c4bab",
   "metadata": {},
   "outputs": [],
   "source": [
    "train_dataa = pd.read_csv(\"data/train_delhi_aqi.csv\")\n",
    "test_dataa = pd.read_csv(\"data/test_delhi_aqi.csv\")"
   ]
  },
  {
   "cell_type": "code",
   "execution_count": 103,
   "id": "774f4538-72cf-4fdc-b3bc-c455fe101358",
   "metadata": {},
   "outputs": [],
   "source": [
    "# need to be tuned:\n",
    "sequence_size = 100\n",
    "num_levels = 6"
   ]
  },
  {
   "cell_type": "markdown",
   "id": "2928511a-a14b-401d-995d-4721c1fe5b1b",
   "metadata": {},
   "source": [
    "Setting up dataloader"
   ]
  },
  {
   "cell_type": "code",
   "execution_count": 104,
   "id": "6eb4c471-dbfb-4276-8a30-f7ea61bcf3ce",
   "metadata": {},
   "outputs": [],
   "source": [
    "train_data = TimeSeriesDataset(train_dataa,sequence_size)\n",
    "train_dataloader = DataLoader(dataset=train_data, batch_size = 100, shuffle=False, num_workers=2)"
   ]
  },
  {
   "cell_type": "markdown",
   "id": "99deb8c6-9e6b-4374-8cb5-8d892c065bf5",
   "metadata": {},
   "source": [
    "Converting the dataloader into an iterable"
   ]
  },
  {
   "cell_type": "code",
   "execution_count": 105,
   "id": "5e2d4def-fc3c-4d2a-bd22-054c552b1c6a",
   "metadata": {},
   "outputs": [],
   "source": [
    "dataiter = iter(train_dataloader)"
   ]
  },
  {
   "cell_type": "code",
   "execution_count": 106,
   "id": "e22c6fb2-58ff-4cb2-8a86-11b19c95b401",
   "metadata": {},
   "outputs": [],
   "source": [
    "data = next(dataiter)"
   ]
  },
  {
   "cell_type": "markdown",
   "id": "a50e6733-8381-48e8-b8a2-792e0a9cdc6f",
   "metadata": {},
   "source": [
    "Creating the tree classes"
   ]
  },
  {
   "cell_type": "code",
   "execution_count": 107,
   "id": "132680e7-718f-4b61-a87c-0aad871984ea",
   "metadata": {},
   "outputs": [],
   "source": [
    "# # Fit regression model\n",
    "# regr_1 = DecisionTreeRegressor(max_depth=2)\n",
    "# regr_2 = DecisionTreeRegressor(max_depth=5)\n",
    "# regr_1.fit(X, y)\n",
    "# regr_2.fit(X, y)\n",
    "\n",
    "# # Predict\n",
    "# X_test = np.arange(0.0, 5.0, 0.01)[:, np.newaxis]\n",
    "# y_1 = regr_1.predict(X_test)\n",
    "# y_2 = regr_2.predict(X_test)\n"
   ]
  },
  {
   "cell_type": "code",
   "execution_count": 108,
   "id": "aef26fc6-239b-4b50-8d17-22879f59571b",
   "metadata": {},
   "outputs": [],
   "source": [
    "tree = DecisionTreeRegressor(max_depth=num_levels, criterion='squared_error', min_samples_split=0.0001)"
   ]
  },
  {
   "cell_type": "markdown",
   "id": "9e87c555-b7b5-474e-bcb4-00ffb520e61d",
   "metadata": {},
   "source": [
    "Training Loop"
   ]
  },
  {
   "cell_type": "code",
   "execution_count": 110,
   "id": "89f02d0a-c04e-4a1d-9f0f-285b3db07a4d",
   "metadata": {},
   "outputs": [
    {
     "name": "stdout",
     "output_type": "stream",
     "text": [
      "2516454 25165\n"
     ]
    }
   ],
   "source": [
    "epochs = 1\n",
    "size = len(train_data)\n",
    "niters = math.ceil(size/100)\n",
    "print(size, niters)"
   ]
  },
  {
   "cell_type": "code",
   "execution_count": 111,
   "id": "a14d15f1-2430-41fa-8073-59ce55459ade",
   "metadata": {},
   "outputs": [
    {
     "name": "stdout",
     "output_type": "stream",
     "text": [
      "Epoch 0, Iteration 0 train error: 0.5879152153808067\n",
      "Epoch 0, Iteration 1000 train error: 3.3119931161559246\n",
      "Epoch 0, Iteration 2000 train error: 0.9342633569107665\n",
      "Epoch 0, Iteration 3000 train error: 1.9097843712792173\n",
      "Epoch 0, Iteration 4000 train error: 0.7227043746905114\n",
      "Epoch 0, Iteration 5000 train error: 1.3635483338539975\n",
      "Epoch 0, Iteration 6000 train error: 0.8766080252613748\n",
      "Epoch 0, Iteration 7000 train error: 0.9484942906829836\n",
      "Epoch 0, Iteration 8000 train error: 1.3544544200213529\n",
      "Epoch 0, Iteration 9000 train error: 1.194826685605162\n",
      "Epoch 0, Iteration 10000 train error: 1.7871975371982374\n",
      "Epoch 0, Iteration 11000 train error: 1.9800123553611655\n",
      "Epoch 0, Iteration 12000 train error: 1.9137478698805501\n",
      "Epoch 0, Iteration 13000 train error: 1.1180554799870672\n",
      "Epoch 0, Iteration 14000 train error: 2.0426704356233376\n",
      "Epoch 0, Iteration 15000 train error: 0.9102611846842124\n",
      "Epoch 0, Iteration 16000 train error: 1.9001645992621585\n",
      "Epoch 0, Iteration 17000 train error: 1.0917913378636033\n",
      "Epoch 0, Iteration 18000 train error: 1.304764518440395\n",
      "Epoch 0, Iteration 19000 train error: 1.4294646564476146\n",
      "Epoch 0, Iteration 20000 train error: 0.9125057987362453\n",
      "Epoch 0, Iteration 21000 train error: 0.9916051350046574\n",
      "Epoch 0, Iteration 22000 train error: 1.735332662273496\n",
      "Epoch 0, Iteration 23000 train error: 1.1770989584050875\n",
      "Epoch 0, Iteration 24000 train error: 1.74325513053684\n",
      "Epoch 0, Iteration 25000 train error: 1.691923110755825\n",
      "epoch 0/1 completed\n"
     ]
    }
   ],
   "source": [
    "for ep in range(epochs):\n",
    "    for i, (x, y) in enumerate(train_dataloader):\n",
    "        tree.fit(x,y)\n",
    "        if i%1000==0:\n",
    "            ypred = tree.predict(x)\n",
    "            err = torch.sum((y-ypred)**2)/len(y)\n",
    "            print(f'Epoch {ep}, Iteration {i} train error: {err}')\n",
    "    print(f'epoch {ep}/{epochs} completed')"
   ]
  },
  {
   "cell_type": "code",
   "execution_count": 112,
   "id": "c3aca053-adcb-44ef-8a0c-662c91d24864",
   "metadata": {},
   "outputs": [],
   "source": [
    "test_data = TimeSeriesDataset(test_dataa,sequence_size)\n",
    "test_dataloader = DataLoader(dataset=test_data, batch_size = len(test_data), shuffle=False, num_workers = 3)"
   ]
  },
  {
   "cell_type": "code",
   "execution_count": 113,
   "id": "12e387c7-965e-4595-948c-8d30e937a766",
   "metadata": {},
   "outputs": [
    {
     "name": "stdout",
     "output_type": "stream",
     "text": [
      "iteratation 0\n",
      "\n"
     ]
    }
   ],
   "source": [
    "#calc error\n",
    "for ep in range(1):\n",
    "    for i, (x,y) in enumerate(test_dataloader):\n",
    "        ypred = tree.predict(x)\n",
    "        error = torch.sum((y-ypred)**2)/len(y)\n",
    "        print(f'iteratation {i}\\n')"
   ]
  },
  {
   "cell_type": "code",
   "execution_count": 114,
   "id": "1d4d94e1-388e-46d1-9afb-a429430acef0",
   "metadata": {},
   "outputs": [
    {
     "data": {
      "text/plain": [
       "tensor(2989.3518, dtype=torch.float64)"
      ]
     },
     "execution_count": 114,
     "metadata": {},
     "output_type": "execute_result"
    }
   ],
   "source": [
    "error"
   ]
  },
  {
   "cell_type": "code",
   "execution_count": 115,
   "id": "22a3b51f-0630-48a0-b61e-97b12f696914",
   "metadata": {},
   "outputs": [
    {
     "data": {
      "text/html": [
       "<div>\n",
       "<style scoped>\n",
       "    .dataframe tbody tr th:only-of-type {\n",
       "        vertical-align: middle;\n",
       "    }\n",
       "\n",
       "    .dataframe tbody tr th {\n",
       "        vertical-align: top;\n",
       "    }\n",
       "\n",
       "    .dataframe thead th {\n",
       "        text-align: right;\n",
       "    }\n",
       "</style>\n",
       "<table border=\"1\" class=\"dataframe\">\n",
       "  <thead>\n",
       "    <tr style=\"text-align: right;\">\n",
       "      <th></th>\n",
       "      <th>PM2_5</th>\n",
       "      <th>PM10</th>\n",
       "      <th>NO2</th>\n",
       "      <th>SO2</th>\n",
       "      <th>CO_ug</th>\n",
       "      <th>Ozone</th>\n",
       "      <th>Temp</th>\n",
       "      <th>RH</th>\n",
       "      <th>WS</th>\n",
       "      <th>BP</th>\n",
       "      <th>WD</th>\n",
       "      <th>AQI (PM2.5)</th>\n",
       "    </tr>\n",
       "  </thead>\n",
       "  <tbody>\n",
       "    <tr>\n",
       "      <th>31125</th>\n",
       "      <td>239.00</td>\n",
       "      <td>325.75</td>\n",
       "      <td>59.83</td>\n",
       "      <td>8.65</td>\n",
       "      <td>0.88</td>\n",
       "      <td>58.50</td>\n",
       "      <td>23.098722</td>\n",
       "      <td>78.08</td>\n",
       "      <td>1.30</td>\n",
       "      <td>988.10</td>\n",
       "      <td>346.37</td>\n",
       "      <td>288.600000</td>\n",
       "    </tr>\n",
       "    <tr>\n",
       "      <th>36812</th>\n",
       "      <td>35.77</td>\n",
       "      <td>50.43</td>\n",
       "      <td>28.75</td>\n",
       "      <td>4.15</td>\n",
       "      <td>0.63</td>\n",
       "      <td>23.37</td>\n",
       "      <td>23.098722</td>\n",
       "      <td>62.50</td>\n",
       "      <td>0.50</td>\n",
       "      <td>982.00</td>\n",
       "      <td>84.00</td>\n",
       "      <td>100.925001</td>\n",
       "    </tr>\n",
       "    <tr>\n",
       "      <th>56176</th>\n",
       "      <td>20.56</td>\n",
       "      <td>45.89</td>\n",
       "      <td>5.00</td>\n",
       "      <td>15.50</td>\n",
       "      <td>0.88</td>\n",
       "      <td>12.00</td>\n",
       "      <td>23.970000</td>\n",
       "      <td>76.75</td>\n",
       "      <td>0.68</td>\n",
       "      <td>1041.00</td>\n",
       "      <td>320.00</td>\n",
       "      <td>68.290597</td>\n",
       "    </tr>\n",
       "    <tr>\n",
       "      <th>66679</th>\n",
       "      <td>31.00</td>\n",
       "      <td>67.50</td>\n",
       "      <td>5.98</td>\n",
       "      <td>1.00</td>\n",
       "      <td>0.88</td>\n",
       "      <td>4.00</td>\n",
       "      <td>28.700000</td>\n",
       "      <td>97.97</td>\n",
       "      <td>0.34</td>\n",
       "      <td>991.52</td>\n",
       "      <td>228.25</td>\n",
       "      <td>90.598291</td>\n",
       "    </tr>\n",
       "    <tr>\n",
       "      <th>29992</th>\n",
       "      <td>80.63</td>\n",
       "      <td>350.94</td>\n",
       "      <td>70.74</td>\n",
       "      <td>0.90</td>\n",
       "      <td>0.88</td>\n",
       "      <td>17.35</td>\n",
       "      <td>18.590000</td>\n",
       "      <td>95.67</td>\n",
       "      <td>0.03</td>\n",
       "      <td>980.00</td>\n",
       "      <td>9.50</td>\n",
       "      <td>163.278946</td>\n",
       "    </tr>\n",
       "    <tr>\n",
       "      <th>...</th>\n",
       "      <td>...</td>\n",
       "      <td>...</td>\n",
       "      <td>...</td>\n",
       "      <td>...</td>\n",
       "      <td>...</td>\n",
       "      <td>...</td>\n",
       "      <td>...</td>\n",
       "      <td>...</td>\n",
       "      <td>...</td>\n",
       "      <td>...</td>\n",
       "      <td>...</td>\n",
       "      <td>...</td>\n",
       "    </tr>\n",
       "    <tr>\n",
       "      <th>44678</th>\n",
       "      <td>179.29</td>\n",
       "      <td>328.81</td>\n",
       "      <td>18.64</td>\n",
       "      <td>0.90</td>\n",
       "      <td>0.88</td>\n",
       "      <td>17.81</td>\n",
       "      <td>18.590000</td>\n",
       "      <td>9.50</td>\n",
       "      <td>0.47</td>\n",
       "      <td>1041.00</td>\n",
       "      <td>0.50</td>\n",
       "      <td>228.889993</td>\n",
       "    </tr>\n",
       "    <tr>\n",
       "      <th>33693</th>\n",
       "      <td>66.16</td>\n",
       "      <td>139.49</td>\n",
       "      <td>13.78</td>\n",
       "      <td>10.15</td>\n",
       "      <td>0.88</td>\n",
       "      <td>22.48</td>\n",
       "      <td>9.050000</td>\n",
       "      <td>75.10</td>\n",
       "      <td>0.49</td>\n",
       "      <td>976.55</td>\n",
       "      <td>85.83</td>\n",
       "      <td>155.663160</td>\n",
       "    </tr>\n",
       "    <tr>\n",
       "      <th>60993</th>\n",
       "      <td>502.25</td>\n",
       "      <td>67.50</td>\n",
       "      <td>31.67</td>\n",
       "      <td>1.00</td>\n",
       "      <td>0.88</td>\n",
       "      <td>4.00</td>\n",
       "      <td>22.830000</td>\n",
       "      <td>57.08</td>\n",
       "      <td>0.35</td>\n",
       "      <td>991.52</td>\n",
       "      <td>241.25</td>\n",
       "      <td>500.000000</td>\n",
       "    </tr>\n",
       "    <tr>\n",
       "      <th>102883</th>\n",
       "      <td>39.87</td>\n",
       "      <td>243.61</td>\n",
       "      <td>16.51</td>\n",
       "      <td>21.72</td>\n",
       "      <td>0.88</td>\n",
       "      <td>47.20</td>\n",
       "      <td>18.150000</td>\n",
       "      <td>32.00</td>\n",
       "      <td>2.54</td>\n",
       "      <td>1008.80</td>\n",
       "      <td>234.60</td>\n",
       "      <td>111.174997</td>\n",
       "    </tr>\n",
       "    <tr>\n",
       "      <th>51019</th>\n",
       "      <td>67.50</td>\n",
       "      <td>67.50</td>\n",
       "      <td>6.33</td>\n",
       "      <td>1.00</td>\n",
       "      <td>0.88</td>\n",
       "      <td>4.00</td>\n",
       "      <td>23.430000</td>\n",
       "      <td>48.10</td>\n",
       "      <td>0.64</td>\n",
       "      <td>991.52</td>\n",
       "      <td>320.00</td>\n",
       "      <td>156.368421</td>\n",
       "    </tr>\n",
       "  </tbody>\n",
       "</table>\n",
       "<p>2516553 rows × 12 columns</p>\n",
       "</div>"
      ],
      "text/plain": [
       "         PM2_5    PM10    NO2    SO2  CO_ug  Ozone       Temp     RH    WS  \\\n",
       "31125   239.00  325.75  59.83   8.65   0.88  58.50  23.098722  78.08  1.30   \n",
       "36812    35.77   50.43  28.75   4.15   0.63  23.37  23.098722  62.50  0.50   \n",
       "56176    20.56   45.89   5.00  15.50   0.88  12.00  23.970000  76.75  0.68   \n",
       "66679    31.00   67.50   5.98   1.00   0.88   4.00  28.700000  97.97  0.34   \n",
       "29992    80.63  350.94  70.74   0.90   0.88  17.35  18.590000  95.67  0.03   \n",
       "...        ...     ...    ...    ...    ...    ...        ...    ...   ...   \n",
       "44678   179.29  328.81  18.64   0.90   0.88  17.81  18.590000   9.50  0.47   \n",
       "33693    66.16  139.49  13.78  10.15   0.88  22.48   9.050000  75.10  0.49   \n",
       "60993   502.25   67.50  31.67   1.00   0.88   4.00  22.830000  57.08  0.35   \n",
       "102883   39.87  243.61  16.51  21.72   0.88  47.20  18.150000  32.00  2.54   \n",
       "51019    67.50   67.50   6.33   1.00   0.88   4.00  23.430000  48.10  0.64   \n",
       "\n",
       "             BP      WD  AQI (PM2.5)  \n",
       "31125    988.10  346.37   288.600000  \n",
       "36812    982.00   84.00   100.925001  \n",
       "56176   1041.00  320.00    68.290597  \n",
       "66679    991.52  228.25    90.598291  \n",
       "29992    980.00    9.50   163.278946  \n",
       "...         ...     ...          ...  \n",
       "44678   1041.00    0.50   228.889993  \n",
       "33693    976.55   85.83   155.663160  \n",
       "60993    991.52  241.25   500.000000  \n",
       "102883  1008.80  234.60   111.174997  \n",
       "51019    991.52  320.00   156.368421  \n",
       "\n",
       "[2516553 rows x 12 columns]"
      ]
     },
     "execution_count": 115,
     "metadata": {},
     "output_type": "execute_result"
    }
   ],
   "source": [
    "train_dataa"
   ]
  },
  {
   "cell_type": "code",
   "execution_count": null,
   "id": "94878b8a-dd23-4646-9e6e-808e5230e0cd",
   "metadata": {},
   "outputs": [],
   "source": []
  }
 ],
 "metadata": {
  "kernelspec": {
   "display_name": "Python 3 (ipykernel)",
   "language": "python",
   "name": "python3"
  },
  "language_info": {
   "codemirror_mode": {
    "name": "ipython",
    "version": 3
   },
   "file_extension": ".py",
   "mimetype": "text/x-python",
   "name": "python",
   "nbconvert_exporter": "python",
   "pygments_lexer": "ipython3",
   "version": "3.11.5"
  }
 },
 "nbformat": 4,
 "nbformat_minor": 5
}
