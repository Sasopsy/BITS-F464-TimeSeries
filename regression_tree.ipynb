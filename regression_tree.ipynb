{
 "cells": [
  {
   "cell_type": "markdown",
   "id": "5fba63bd-3cc6-4c04-b9ab-002f475452b9",
   "metadata": {},
   "source": [
    "**DECISION TREE**"
   ]
  },
  {
   "cell_type": "markdown",
   "id": "556e4b32-fef8-45e5-9f3f-9fedfed8db99",
   "metadata": {},
   "source": [
    "Importing libraries"
   ]
  },
  {
   "cell_type": "code",
   "execution_count": 75,
   "id": "c705eb58-0bb4-421a-8f85-05e83f33142c",
   "metadata": {},
   "outputs": [],
   "source": [
    "import torch\n",
    "import tensorflow as tf\n",
    "from torch.utils.data import Dataset, DataLoader\n",
    "import pandas as pd\n",
    "import numpy as np\n",
    "from dataset import TimeSeriesDataset\n",
    "from dataset import NumpyToTensor\n",
    "import sklearn\n",
    "from sklearn.tree import DecisionTreeRegressor\n",
    "import math\n",
    "from sklearn.metrics import mean_squared_error"
   ]
  },
  {
   "cell_type": "markdown",
   "id": "03f79351-93a3-4026-9152-992a84fb096c",
   "metadata": {},
   "source": [
    "Importing data"
   ]
  },
  {
   "cell_type": "code",
   "execution_count": 76,
   "id": "a20d694d-2031-4bd9-b223-aa06546c4bab",
   "metadata": {},
   "outputs": [],
   "source": [
    "train_dataa = pd.read_csv(\"data/train_delhi_aqi.csv\")\n",
    "test_dataa = pd.read_csv(\"data/test_delhi_aqi.csv\")"
   ]
  },
  {
   "cell_type": "code",
   "execution_count": 102,
   "id": "774f4538-72cf-4fdc-b3bc-c455fe101358",
   "metadata": {},
   "outputs": [],
   "source": [
    "# need to be tuned:\n",
    "sequence_size = 100\n",
    "num_levels = 6\n",
    "min_samples_split = 1/(12*13*100)\n",
    "min_samples_leaf = 1/(12*13*1000)"
   ]
  },
  {
   "cell_type": "markdown",
   "id": "2928511a-a14b-401d-995d-4721c1fe5b1b",
   "metadata": {},
   "source": [
    "Setting up dataloader"
   ]
  },
  {
   "cell_type": "code",
   "execution_count": 103,
   "id": "6eb4c471-dbfb-4276-8a30-f7ea61bcf3ce",
   "metadata": {},
   "outputs": [],
   "source": [
    "train_data = TimeSeriesDataset(train_dataa,sequence_size)\n",
    "# train_dataloader = DataLoader(dataset=train_data, batch_size = math.ceil(len(train_data)/(12*13)), shuffle=False, num_workers=2)\n",
    "train_dataloader = DataLoader(dataset=train_data, batch_size = 10000, shuffle=False, num_workers=2)"
   ]
  },
  {
   "cell_type": "markdown",
   "id": "99deb8c6-9e6b-4374-8cb5-8d892c065bf5",
   "metadata": {},
   "source": [
    "Converting the dataloader into an iterable"
   ]
  },
  {
   "cell_type": "code",
   "execution_count": 104,
   "id": "5e2d4def-fc3c-4d2a-bd22-054c552b1c6a",
   "metadata": {},
   "outputs": [],
   "source": [
    "dataiter = iter(train_dataloader)"
   ]
  },
  {
   "cell_type": "code",
   "execution_count": 105,
   "id": "e22c6fb2-58ff-4cb2-8a86-11b19c95b401",
   "metadata": {},
   "outputs": [],
   "source": [
    "data = next(dataiter)"
   ]
  },
  {
   "cell_type": "markdown",
   "id": "a50e6733-8381-48e8-b8a2-792e0a9cdc6f",
   "metadata": {},
   "source": [
    "Creating the tree classes"
   ]
  },
  {
   "cell_type": "code",
   "execution_count": 106,
   "id": "132680e7-718f-4b61-a87c-0aad871984ea",
   "metadata": {},
   "outputs": [],
   "source": [
    "# # Fit regression model\n",
    "# regr_1 = DecisionTreeRegressor(max_depth=2)\n",
    "# regr_2 = DecisionTreeRegressor(max_depth=5)\n",
    "# regr_1.fit(X, y)\n",
    "# regr_2.fit(X, y)\n",
    "\n",
    "# # Predict\n",
    "# X_test = np.arange(0.0, 5.0, 0.01)[:, np.newaxis]\n",
    "# y_1 = regr_1.predict(X_test)\n",
    "# y_2 = regr_2.predict(X_test)\n"
   ]
  },
  {
   "cell_type": "code",
   "execution_count": 107,
   "id": "aef26fc6-239b-4b50-8d17-22879f59571b",
   "metadata": {},
   "outputs": [],
   "source": [
    "tree = DecisionTreeRegressor(max_depth=num_levels, criterion='squared_error', min_samples_split=min_samples_split, min_samples_leaf=min_samples_leaf)"
   ]
  },
  {
   "cell_type": "markdown",
   "id": "9e87c555-b7b5-474e-bcb4-00ffb520e61d",
   "metadata": {},
   "source": [
    "Training Loop"
   ]
  },
  {
   "cell_type": "code",
   "execution_count": 108,
   "id": "89f02d0a-c04e-4a1d-9f0f-285b3db07a4d",
   "metadata": {},
   "outputs": [
    {
     "name": "stdout",
     "output_type": "stream",
     "text": [
      "2516454 25165\n"
     ]
    }
   ],
   "source": [
    "epochs = 1\n",
    "size = len(train_data)\n",
    "niters = math.ceil(size/100)\n",
    "print(size, niters)"
   ]
  },
  {
   "cell_type": "code",
   "execution_count": 109,
   "id": "a14d15f1-2430-41fa-8073-59ce55459ade",
   "metadata": {},
   "outputs": [
    {
     "name": "stdout",
     "output_type": "stream",
     "text": [
      "Epoch 0, Iteration 0, input_vector_length: 10000, output_vector_length: 10000, train error: 3.278938831675475\n",
      "Epoch 0, Iteration 10, input_vector_length: 10000, output_vector_length: 10000, train error: 3.3134280919705152\n",
      "Epoch 0, Iteration 20, input_vector_length: 10000, output_vector_length: 10000, train error: 3.5716127014902246\n",
      "Epoch 0, Iteration 30, input_vector_length: 10000, output_vector_length: 10000, train error: 3.5495249180888977\n",
      "Epoch 0, Iteration 40, input_vector_length: 10000, output_vector_length: 10000, train error: 3.469049686410338\n",
      "Epoch 0, Iteration 50, input_vector_length: 10000, output_vector_length: 10000, train error: 3.5906075683313277\n",
      "Epoch 0, Iteration 60, input_vector_length: 10000, output_vector_length: 10000, train error: 3.448946034380901\n",
      "Epoch 0, Iteration 70, input_vector_length: 10000, output_vector_length: 10000, train error: 3.598249328814547\n",
      "Epoch 0, Iteration 80, input_vector_length: 10000, output_vector_length: 10000, train error: 3.4906838379655083\n",
      "Epoch 0, Iteration 90, input_vector_length: 10000, output_vector_length: 10000, train error: 3.610999861045523\n",
      "Epoch 0, Iteration 100, input_vector_length: 10000, output_vector_length: 10000, train error: 3.3224425015245433\n",
      "epoch 0/1 completed\n"
     ]
    }
   ],
   "source": [
    "for ep in range(epochs):\n",
    "    for i, (x, y) in enumerate(train_dataloader):\n",
    "        tree.fit(x,y)\n",
    "        if i%10==0:\n",
    "            ypred = tree.predict(x)\n",
    "            err = mean_squared_error(y,ypred)\n",
    "            print(f'Epoch {ep}, Iteration {i}, input_vector_length: {len(x)}, output_vector_length: {len(y)}, train error: {err}')\n",
    "        if i > 100:\n",
    "            break\n",
    "    print(f'epoch {ep}/{epochs} completed')\n",
    "    break"
   ]
  },
  {
   "cell_type": "code",
   "execution_count": 110,
   "id": "12614e14-ab23-4a71-80ce-d74c030284cf",
   "metadata": {},
   "outputs": [
    {
     "data": {
      "text/plain": [
       "101"
      ]
     },
     "execution_count": 110,
     "metadata": {},
     "output_type": "execute_result"
    }
   ],
   "source": [
    "i"
   ]
  },
  {
   "cell_type": "code",
   "execution_count": 111,
   "id": "c3aca053-adcb-44ef-8a0c-662c91d24864",
   "metadata": {},
   "outputs": [],
   "source": [
    "test_data = TimeSeriesDataset(test_dataa,sequence_size)\n",
    "test_dataloader = DataLoader(dataset=test_data, batch_size = 1, shuffle=False, num_workers = 3)"
   ]
  },
  {
   "cell_type": "code",
   "execution_count": 112,
   "id": "12e387c7-965e-4595-948c-8d30e937a766",
   "metadata": {},
   "outputs": [],
   "source": [
    "#calc error\n",
    "errs = torch.empty((len(test_data),1))\n",
    "for ep in range(1):\n",
    "    for i, (x,y) in enumerate(test_dataloader):\n",
    "        ypred = tree.predict(x)\n",
    "        error = mean_squared_error(y,ypred)\n",
    "        errs[i] = error"
   ]
  },
  {
   "cell_type": "code",
   "execution_count": 113,
   "id": "1d4d94e1-388e-46d1-9afb-a429430acef0",
   "metadata": {},
   "outputs": [
    {
     "data": {
      "text/plain": [
       "tensor(90.0916)"
      ]
     },
     "execution_count": 113,
     "metadata": {},
     "output_type": "execute_result"
    }
   ],
   "source": [
    "torch.max(errs)\n",
    "# torch.min(errs)"
   ]
  },
  {
   "cell_type": "markdown",
   "id": "83b0d850-e04f-4678-bf8f-313beb7e7485",
   "metadata": {},
   "source": [
    "Plotting the tree"
   ]
  },
  {
   "cell_type": "code",
   "execution_count": 114,
   "id": "a162ca00-dec7-4990-9389-33dde69622a6",
   "metadata": {},
   "outputs": [
    {
     "data": {
      "text/plain": [
       "[Text(0.5, 0.9285714285714286, 'x[1089] <= 178.565\\nsquared_error = 7935.437\\nsamples = 10000\\nvalue = 169.226'),\n",
       " Text(0.25, 0.7857142857142857, 'x[1089] <= 46.435\\nsquared_error = 2319.094\\nsamples = 8237\\nvalue = 137.129'),\n",
       " Text(0.125, 0.6428571428571429, 'x[1089] <= 27.44\\nsquared_error = 643.129\\nsamples = 3223\\nvalue = 84.15'),\n",
       " Text(0.0625, 0.5, 'x[1089] <= 11.345\\nsquared_error = 289.674\\nsamples = 1528\\nvalue = 62.157'),\n",
       " Text(0.03125, 0.35714285714285715, 'x[1089] <= 5.535\\nsquared_error = 207.039\\nsamples = 216\\nvalue = 26.948'),\n",
       " Text(0.015625, 0.21428571428571427, 'x[1089] <= 2.68\\nsquared_error = 55.869\\nsamples = 76\\nvalue = 9.915'),\n",
       " Text(0.0078125, 0.07142857142857142, 'squared_error = 6.061\\nsamples = 46\\nvalue = 4.392'),\n",
       " Text(0.0234375, 0.07142857142857142, 'squared_error = 13.759\\nsamples = 30\\nvalue = 18.383'),\n",
       " Text(0.046875, 0.21428571428571427, 'x[1089] <= 8.585\\nsquared_error = 46.107\\nsamples = 140\\nvalue = 36.195'),\n",
       " Text(0.0390625, 0.07142857142857142, 'squared_error = 13.068\\nsamples = 67\\nvalue = 30.119'),\n",
       " Text(0.0546875, 0.07142857142857142, 'squared_error = 11.464\\nsamples = 73\\nvalue = 41.771'),\n",
       " Text(0.09375, 0.35714285714285715, 'x[1089] <= 19.71\\nsquared_error = 65.586\\nsamples = 1312\\nvalue = 67.954'),\n",
       " Text(0.078125, 0.21428571428571427, 'x[1089] <= 15.845\\nsquared_error = 22.067\\nsamples = 514\\nvalue = 59.652'),\n",
       " Text(0.0703125, 0.07142857142857142, 'squared_error = 8.931\\nsamples = 169\\nvalue = 53.722'),\n",
       " Text(0.0859375, 0.07142857142857142, 'squared_error = 2.843\\nsamples = 345\\nvalue = 62.556'),\n",
       " Text(0.109375, 0.21428571428571427, 'x[1089] <= 22.63\\nsquared_error = 20.627\\nsamples = 798\\nvalue = 73.301'),\n",
       " Text(0.1015625, 0.07142857142857142, 'squared_error = 1.915\\nsamples = 341\\nvalue = 68.844'),\n",
       " Text(0.1171875, 0.07142857142857142, 'squared_error = 8.709\\nsamples = 457\\nvalue = 76.627'),\n",
       " Text(0.1875, 0.5, 'x[1089] <= 37.435\\nsquared_error = 132.686\\nsamples = 1695\\nvalue = 103.975'),\n",
       " Text(0.15625, 0.35714285714285715, 'x[1089] <= 32.455\\nsquared_error = 35.625\\nsamples = 942\\nvalue = 95.287'),\n",
       " Text(0.140625, 0.21428571428571427, 'x[1089] <= 29.815\\nsquared_error = 8.671\\nsamples = 338\\nvalue = 88.126'),\n",
       " Text(0.1328125, 0.07142857142857142, 'squared_error = 1.934\\nsamples = 164\\nvalue = 85.521'),\n",
       " Text(0.1484375, 0.07142857142857142, 'squared_error = 2.595\\nsamples = 174\\nvalue = 90.581'),\n",
       " Text(0.171875, 0.21428571428571427, 'x[1089] <= 34.52\\nsquared_error = 5.95\\nsamples = 604\\nvalue = 99.294'),\n",
       " Text(0.1640625, 0.07142857142857142, 'squared_error = 1.718\\nsamples = 146\\nvalue = 95.877'),\n",
       " Text(0.1796875, 0.07142857142857142, 'squared_error = 2.389\\nsamples = 458\\nvalue = 100.384'),\n",
       " Text(0.21875, 0.35714285714285715, 'x[1089] <= 41.64\\nsquared_error = 41.537\\nsamples = 753\\nvalue = 114.844'),\n",
       " Text(0.203125, 0.21428571428571427, 'x[1089] <= 39.71\\nsquared_error = 6.197\\nsamples = 431\\nvalue = 109.896'),\n",
       " Text(0.1953125, 0.07142857142857142, 'squared_error = 2.323\\nsamples = 301\\nvalue = 108.584'),\n",
       " Text(0.2109375, 0.07142857142857142, 'squared_error = 1.969\\nsamples = 130\\nvalue = 112.932'),\n",
       " Text(0.234375, 0.21428571428571427, 'x[1089] <= 43.89\\nsquared_error = 12.184\\nsamples = 322\\nvalue = 121.468'),\n",
       " Text(0.2265625, 0.07142857142857142, 'squared_error = 2.774\\nsamples = 150\\nvalue = 118.243'),\n",
       " Text(0.2421875, 0.07142857142857142, 'squared_error = 3.41\\nsamples = 172\\nvalue = 124.281'),\n",
       " Text(0.375, 0.6428571428571429, 'x[1089] <= 103.285\\nsquared_error = 432.39\\nsamples = 5014\\nvalue = 171.185'),\n",
       " Text(0.3125, 0.5, 'x[1089] <= 63.43\\nsquared_error = 125.402\\nsamples = 3082\\nvalue = 157.759'),\n",
       " Text(0.28125, 0.35714285714285715, 'x[1089] <= 52.545\\nsquared_error = 68.96\\nsamples = 983\\nvalue = 144.497'),\n",
       " Text(0.265625, 0.21428571428571427, 'x[1089] <= 49.395\\nsquared_error = 21.128\\nsamples = 387\\nvalue = 135.197'),\n",
       " Text(0.2578125, 0.07142857142857142, 'squared_error = 4.272\\nsamples = 180\\nvalue = 130.845'),\n",
       " Text(0.2734375, 0.07142857142857142, 'squared_error = 4.996\\nsamples = 207\\nvalue = 138.982'),\n",
       " Text(0.296875, 0.21428571428571427, 'x[1089] <= 54.85\\nsquared_error = 7.401\\nsamples = 596\\nvalue = 150.535'),\n",
       " Text(0.2890625, 0.07142857142857142, 'squared_error = 2.338\\nsamples = 111\\nvalue = 145.635'),\n",
       " Text(0.3046875, 0.07142857142857142, 'squared_error = 1.807\\nsamples = 485\\nvalue = 151.657'),\n",
       " Text(0.34375, 0.35714285714285715, 'x[1089] <= 83.205\\nsquared_error = 30.881\\nsamples = 2099\\nvalue = 163.971'),\n",
       " Text(0.328125, 0.21428571428571427, 'x[1089] <= 73.705\\nsquared_error = 10.176\\nsamples = 1197\\nvalue = 159.991'),\n",
       " Text(0.3203125, 0.07142857142857142, 'squared_error = 2.123\\nsamples = 526\\nvalue = 156.726'),\n",
       " Text(0.3359375, 0.07142857142857142, 'squared_error = 1.581\\nsamples = 671\\nvalue = 162.55'),\n",
       " Text(0.359375, 0.21428571428571427, 'x[1089] <= 91.905\\nsquared_error = 9.448\\nsamples = 902\\nvalue = 169.252'),\n",
       " Text(0.3515625, 0.07142857142857142, 'squared_error = 1.586\\nsamples = 442\\nvalue = 166.488'),\n",
       " Text(0.3671875, 0.07142857142857142, 'squared_error = 2.608\\nsamples = 460\\nvalue = 171.908'),\n",
       " Text(0.4375, 0.5, 'x[1089] <= 144.29\\nsquared_error = 175.923\\nsamples = 1932\\nvalue = 192.601'),\n",
       " Text(0.40625, 0.35714285714285715, 'x[1089] <= 119.925\\nsquared_error = 32.23\\nsamples = 1300\\nvalue = 184.789'),\n",
       " Text(0.390625, 0.21428571428571427, 'x[1089] <= 112.34\\nsquared_error = 5.982\\nsamples = 536\\nvalue = 179.295'),\n",
       " Text(0.3828125, 0.07142857142857142, 'squared_error = 1.394\\nsamples = 346\\nvalue = 177.699'),\n",
       " Text(0.3984375, 0.07142857142857142, 'squared_error = 1.244\\nsamples = 190\\nvalue = 182.202'),\n",
       " Text(0.421875, 0.21428571428571427, 'x[1089] <= 131.125\\nsquared_error = 14.615\\nsamples = 764\\nvalue = 188.643'),\n",
       " Text(0.4140625, 0.07142857142857142, 'squared_error = 1.904\\nsamples = 505\\nvalue = 186.166'),\n",
       " Text(0.4296875, 0.07142857142857142, 'squared_error = 4.11\\nsamples = 259\\nvalue = 193.473'),\n",
       " Text(0.46875, 0.35714285714285715, 'x[1089] <= 161.125\\nsquared_error = 87.72\\nsamples = 632\\nvalue = 208.671'),\n",
       " Text(0.453125, 0.21428571428571427, 'x[1089] <= 152.415\\nsquared_error = 13.793\\nsamples = 391\\nvalue = 202.145'),\n",
       " Text(0.4453125, 0.07142857142857142, 'squared_error = 1.586\\nsamples = 186\\nvalue = 198.837'),\n",
       " Text(0.4609375, 0.07142857142857142, 'squared_error = 5.933\\nsamples = 205\\nvalue = 205.146'),\n",
       " Text(0.484375, 0.21428571428571427, 'x[1089] <= 169.95\\nsquared_error = 26.466\\nsamples = 241\\nvalue = 219.258'),\n",
       " Text(0.4765625, 0.07142857142857142, 'squared_error = 6.423\\nsamples = 128\\nvalue = 215.078'),\n",
       " Text(0.4921875, 0.07142857142857142, 'squared_error = 6.954\\nsamples = 113\\nvalue = 223.994'),\n",
       " Text(0.75, 0.7857142857142857, 'x[1089] <= 318.75\\nsquared_error = 6873.983\\nsamples = 1763\\nvalue = 319.188'),\n",
       " Text(0.625, 0.6428571428571429, 'x[1089] <= 241.5\\nsquared_error = 1414.886\\nsamples = 1373\\nvalue = 280.483'),\n",
       " Text(0.5625, 0.5, 'x[1089] <= 208.835\\nsquared_error = 331.35\\nsamples = 902\\nvalue = 257.328'),\n",
       " Text(0.53125, 0.35714285714285715, 'x[1089] <= 193.345\\nsquared_error = 66.596\\nsamples = 479\\nvalue = 242.006'),\n",
       " Text(0.515625, 0.21428571428571427, 'x[1089] <= 185.465\\nsquared_error = 19.586\\nsamples = 273\\nvalue = 235.99'),\n",
       " Text(0.5078125, 0.07142857142857142, 'squared_error = 4.023\\nsamples = 110\\nvalue = 231.105'),\n",
       " Text(0.5234375, 0.07142857142857142, 'squared_error = 3.121\\nsamples = 163\\nvalue = 239.286'),\n",
       " Text(0.546875, 0.21428571428571427, 'x[1089] <= 201.045\\nsquared_error = 17.376\\nsamples = 206\\nvalue = 249.978'),\n",
       " Text(0.5390625, 0.07142857142857142, 'squared_error = 4.883\\nsamples = 121\\nvalue = 246.993'),\n",
       " Text(0.5546875, 0.07142857142857142, 'squared_error = 4.428\\nsamples = 85\\nvalue = 254.227'),\n",
       " Text(0.59375, 0.35714285714285715, 'x[1089] <= 224.36\\nsquared_error = 64.244\\nsamples = 423\\nvalue = 274.679'),\n",
       " Text(0.578125, 0.21428571428571427, 'x[1089] <= 216.625\\nsquared_error = 15.116\\nsamples = 190\\nvalue = 267.501'),\n",
       " Text(0.5703125, 0.07142857142857142, 'squared_error = 5.19\\nsamples = 62\\nvalue = 262.528'),\n",
       " Text(0.5859375, 0.07142857142857142, 'squared_error = 2.148\\nsamples = 128\\nvalue = 269.909'),\n",
       " Text(0.609375, 0.21428571428571427, 'x[1089] <= 233.125\\nsquared_error = 28.023\\nsamples = 233\\nvalue = 280.532'),\n",
       " Text(0.6015625, 0.07142857142857142, 'squared_error = 5.311\\nsamples = 165\\nvalue = 277.482'),\n",
       " Text(0.6171875, 0.07142857142857142, 'squared_error = 5.749\\nsamples = 68\\nvalue = 287.935'),\n",
       " Text(0.6875, 0.5, 'x[1089] <= 278.89\\nsquared_error = 496.767\\nsamples = 471\\nvalue = 324.827'),\n",
       " Text(0.65625, 0.35714285714285715, 'x[1089] <= 258.75\\nsquared_error = 106.456\\nsamples = 278\\nvalue = 308.356'),\n",
       " Text(0.640625, 0.21428571428571427, 'x[1089] <= 251.3\\nsquared_error = 22.432\\nsamples = 141\\nvalue = 299.518'),\n",
       " Text(0.6328125, 0.07142857142857142, 'squared_error = 8.426\\nsamples = 93\\nvalue = 296.679'),\n",
       " Text(0.6484375, 0.07142857142857142, 'squared_error = 3.697\\nsamples = 48\\nvalue = 305.018'),\n",
       " Text(0.671875, 0.21428571428571427, 'x[1089] <= 268.875\\nsquared_error = 29.784\\nsamples = 137\\nvalue = 317.453'),\n",
       " Text(0.6640625, 0.07142857142857142, 'squared_error = 6.547\\nsamples = 83\\nvalue = 313.606'),\n",
       " Text(0.6796875, 0.07142857142857142, 'squared_error = 7.81\\nsamples = 54\\nvalue = 323.365'),\n",
       " Text(0.71875, 0.35714285714285715, 'x[1089] <= 297.39\\nsquared_error = 105.328\\nsamples = 193\\nvalue = 348.552'),\n",
       " Text(0.703125, 0.21428571428571427, 'x[1089] <= 287.625\\nsquared_error = 27.73\\nsamples = 80\\nvalue = 338.168'),\n",
       " Text(0.6953125, 0.07142857142857142, 'squared_error = 6.35\\nsamples = 32\\nvalue = 332.628'),\n",
       " Text(0.7109375, 0.07142857142857142, 'squared_error = 7.884\\nsamples = 48\\nvalue = 341.861'),\n",
       " Text(0.734375, 0.21428571428571427, 'x[1089] <= 308.0\\nsquared_error = 29.878\\nsamples = 113\\nvalue = 355.904'),\n",
       " Text(0.7265625, 0.07142857142857142, 'squared_error = 6.184\\nsamples = 73\\nvalue = 352.38'),\n",
       " Text(0.7421875, 0.07142857142857142, 'squared_error = 9.113\\nsamples = 40\\nvalue = 362.334'),\n",
       " Text(0.875, 0.6428571428571429, 'x[1089] <= 425.05\\nsquared_error = 2251.775\\nsamples = 390\\nvalue = 455.449'),\n",
       " Text(0.8125, 0.5, 'x[1089] <= 360.375\\nsquared_error = 514.938\\nsamples = 169\\nvalue = 405.153'),\n",
       " Text(0.78125, 0.35714285714285715, 'x[1089] <= 337.5\\nsquared_error = 141.139\\nsamples = 91\\nvalue = 387.213'),\n",
       " Text(0.765625, 0.21428571428571427, 'x[1089] <= 328.125\\nsquared_error = 30.85\\nsamples = 45\\nvalue = 376.814'),\n",
       " Text(0.7578125, 0.07142857142857142, 'squared_error = 7.353\\nsamples = 28\\nvalue = 372.986'),\n",
       " Text(0.7734375, 0.07142857142857142, 'squared_error = 5.671\\nsamples = 17\\nvalue = 383.119'),\n",
       " Text(0.796875, 0.21428571428571427, 'x[1089] <= 347.75\\nsquared_error = 39.757\\nsamples = 46\\nvalue = 397.386'),\n",
       " Text(0.7890625, 0.07142857142857142, 'squared_error = 5.469\\nsamples = 21\\nvalue = 391.01'),\n",
       " Text(0.8046875, 0.07142857142857142, 'squared_error = 5.716\\nsamples = 25\\nvalue = 402.742'),\n",
       " Text(0.84375, 0.35714285714285715, 'x[1089] <= 392.5\\nsquared_error = 137.486\\nsamples = 78\\nvalue = 426.083'),\n",
       " Text(0.828125, 0.21428571428571427, 'x[1089] <= 377.5\\nsquared_error = 36.031\\nsamples = 46\\nvalue = 417.639'),\n",
       " Text(0.8203125, 0.07142857142857142, 'squared_error = 9.989\\nsamples = 25\\nvalue = 412.847'),\n",
       " Text(0.8359375, 0.07142857142857142, 'squared_error = 7.168\\nsamples = 21\\nvalue = 423.343'),\n",
       " Text(0.859375, 0.21428571428571427, 'x[1089] <= 410.0\\nsquared_error = 33.458\\nsamples = 32\\nvalue = 438.222'),\n",
       " Text(0.8515625, 0.07142857142857142, 'squared_error = 10.494\\nsamples = 20\\nvalue = 434.369'),\n",
       " Text(0.8671875, 0.07142857142857142, 'squared_error = 5.729\\nsamples = 12\\nvalue = 444.645'),\n",
       " Text(0.9375, 0.5, 'x[1089] <= 470.06\\nsquared_error = 166.19\\nsamples = 221\\nvalue = 493.911'),\n",
       " Text(0.90625, 0.35714285714285715, 'x[1089] <= 443.69\\nsquared_error = 51.111\\nsamples = 28\\nvalue = 462.409'),\n",
       " Text(0.890625, 0.21428571428571427, 'x[464] <= 21.25\\nsquared_error = 9.492\\nsamples = 15\\nvalue = 456.869'),\n",
       " Text(0.8828125, 0.07142857142857142, 'squared_error = 2.417\\nsamples = 7\\nvalue = 454.025'),\n",
       " Text(0.8984375, 0.07142857142857142, 'squared_error = 2.408\\nsamples = 8\\nvalue = 459.358'),\n",
       " Text(0.921875, 0.21428571428571427, 'x[1089] <= 454.5\\nsquared_error = 22.865\\nsamples = 13\\nvalue = 468.801'),\n",
       " Text(0.9140625, 0.07142857142857142, 'squared_error = 3.532\\nsamples = 7\\nvalue = 465.138'),\n",
       " Text(0.9296875, 0.07142857142857142, 'squared_error = 11.504\\nsamples = 6\\nvalue = 473.074'),\n",
       " Text(0.96875, 0.35714285714285715, 'x[1089] <= 491.0\\nsquared_error = 18.031\\nsamples = 193\\nvalue = 498.481'),\n",
       " Text(0.953125, 0.21428571428571427, 'x[1089] <= 481.075\\nsquared_error = 14.593\\nsamples = 22\\nvalue = 487.298'),\n",
       " Text(0.9453125, 0.07142857142857142, 'squared_error = 3.583\\nsamples = 11\\nvalue = 483.899'),\n",
       " Text(0.9609375, 0.07142857142857142, 'squared_error = 2.499\\nsamples = 11\\nvalue = 490.697'),\n",
       " Text(0.984375, 0.21428571428571427, 'x[1089] <= 499.155\\nsquared_error = 0.315\\nsamples = 171\\nvalue = 499.92'),\n",
       " Text(0.9765625, 0.07142857142857142, 'squared_error = 1.897\\nsamples = 4\\nvalue = 496.56'),\n",
       " Text(0.9921875, 0.07142857142857142, 'squared_error = -0.0\\nsamples = 167\\nvalue = 500.0')]"
      ]
     },
     "execution_count": 114,
     "metadata": {},
     "output_type": "execute_result"
    },
    {
     "data": {
      "image/png": "[encoded data removed]",
      "text/plain": [
       "<Figure size 640x480 with 1 Axes>"
      ]
     },
     "metadata": {},
     "output_type": "display_data"
    }
   ],
   "source": [
    "import matplotlib.pyplot as plt\n",
    "from sklearn.tree import plot_tree\n",
    "\n",
    "fig,ax = plt.subplots()\n",
    "plot_tree(tree, filled=True)"
   ]
  },
  {
   "cell_type": "code",
   "execution_count": 116,
   "id": "eb395b5b-3444-42c9-acbb-160129e90d9f",
   "metadata": {},
   "outputs": [
    {
     "data": {
      "text/plain": [
       "array([  1,   2,   3,   4,   5,   6,  -1,  -1,   9,  -1,  -1,  12,  13,\n",
       "        -1,  -1,  16,  -1,  -1,  19,  20,  21,  -1,  -1,  24,  -1,  -1,\n",
       "        27,  28,  -1,  -1,  31,  -1,  -1,  34,  35,  36,  37,  -1,  -1,\n",
       "        40,  -1,  -1,  43,  44,  -1,  -1,  47,  -1,  -1,  50,  51,  52,\n",
       "        -1,  -1,  55,  -1,  -1,  58,  59,  -1,  -1,  62,  -1,  -1,  65,\n",
       "        66,  67,  68,  69,  -1,  -1,  72,  -1,  -1,  75,  76,  -1,  -1,\n",
       "        79,  -1,  -1,  82,  83,  84,  -1,  -1,  87,  -1,  -1,  90,  91,\n",
       "        -1,  -1,  94,  -1,  -1,  97,  98,  99, 100,  -1,  -1, 103,  -1,\n",
       "        -1, 106, 107,  -1,  -1, 110,  -1,  -1, 113, 114, 115,  -1,  -1,\n",
       "       118,  -1,  -1, 121, 122,  -1,  -1, 125,  -1,  -1], dtype=int64)"
      ]
     },
     "execution_count": 116,
     "metadata": {},
     "output_type": "execute_result"
    }
   ],
   "source": [
    "tree.tree_.children_left"
   ]
  },
  {
   "cell_type": "code",
   "execution_count": 117,
   "id": "7dcc4ad2-26df-48ac-a2db-c7ec79cca27e",
   "metadata": {},
   "outputs": [
    {
     "data": {
      "text/plain": [
       "array([ 64,  33,  18,  11,   8,   7,  -1,  -1,  10,  -1,  -1,  15,  14,\n",
       "        -1,  -1,  17,  -1,  -1,  26,  23,  22,  -1,  -1,  25,  -1,  -1,\n",
       "        30,  29,  -1,  -1,  32,  -1,  -1,  49,  42,  39,  38,  -1,  -1,\n",
       "        41,  -1,  -1,  46,  45,  -1,  -1,  48,  -1,  -1,  57,  54,  53,\n",
       "        -1,  -1,  56,  -1,  -1,  61,  60,  -1,  -1,  63,  -1,  -1,  96,\n",
       "        81,  74,  71,  70,  -1,  -1,  73,  -1,  -1,  78,  77,  -1,  -1,\n",
       "        80,  -1,  -1,  89,  86,  85,  -1,  -1,  88,  -1,  -1,  93,  92,\n",
       "        -1,  -1,  95,  -1,  -1, 112, 105, 102, 101,  -1,  -1, 104,  -1,\n",
       "        -1, 109, 108,  -1,  -1, 111,  -1,  -1, 120, 117, 116,  -1,  -1,\n",
       "       119,  -1,  -1, 124, 123,  -1,  -1, 126,  -1,  -1], dtype=int64)"
      ]
     },
     "execution_count": 117,
     "metadata": {},
     "output_type": "execute_result"
    }
   ],
   "source": [
    "tree.tree_.children_right"
   ]
  },
  {
   "cell_type": "code",
   "execution_count": null,
   "id": "20353443-c8b5-4628-9b8b-0a2dfefaf186",
   "metadata": {},
   "outputs": [],
   "source": []
  }
 ],
 "metadata": {
  "kernelspec": {
   "display_name": "Python 3 (ipykernel)",
   "language": "python",
   "name": "python3"
  },
  "language_info": {
   "codemirror_mode": {
    "name": "ipython",
    "version": 3
   },
   "file_extension": ".py",
   "mimetype": "text/x-python",
   "name": "python",
   "nbconvert_exporter": "python",
   "pygments_lexer": "ipython3",
   "version": "3.11.5"
  }
 },
 "nbformat": 4,
 "nbformat_minor": 5
}
