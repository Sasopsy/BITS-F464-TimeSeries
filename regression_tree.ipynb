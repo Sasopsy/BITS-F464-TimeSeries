{
 "cells": [
  {
   "cell_type": "markdown",
   "id": "5fba63bd-3cc6-4c04-b9ab-002f475452b9",
   "metadata": {},
   "source": [
    "**DECISION TREE**"
   ]
  },
  {
   "cell_type": "markdown",
   "id": "556e4b32-fef8-45e5-9f3f-9fedfed8db99",
   "metadata": {},
   "source": [
    "Importing libraries"
   ]
  },
  {
   "cell_type": "code",
   "execution_count": 12,
   "id": "c705eb58-0bb4-421a-8f85-05e83f33142c",
   "metadata": {},
   "outputs": [],
   "source": [
    "import torch\n",
    "import tensorflow as tf\n",
    "from torch.utils.data import Dataset, DataLoader\n",
    "import pandas as pd\n",
    "import numpy as np\n",
    "from dataset import TimeSeriesDataset\n",
    "from dataset import NumpyToTensor\n",
    "import sklearn\n",
    "from sklearn.tree import DecisionTreeRegressor\n",
    "import math\n",
    "from sklearn.metrics import mean_squared_error"
   ]
  },
  {
   "cell_type": "markdown",
   "id": "03f79351-93a3-4026-9152-992a84fb096c",
   "metadata": {},
   "source": [
    "Importing data"
   ]
  },
  {
   "cell_type": "code",
   "execution_count": 13,
   "id": "a20d694d-2031-4bd9-b223-aa06546c4bab",
   "metadata": {},
   "outputs": [],
   "source": [
    "train_dataa = pd.read_csv(\"data/train_delhi_aqi.csv\")\n",
    "test_dataa = pd.read_csv(\"data/test_delhi_aqi.csv\")"
   ]
  },
  {
   "cell_type": "code",
   "execution_count": 79,
   "id": "774f4538-72cf-4fdc-b3bc-c455fe101358",
   "metadata": {},
   "outputs": [],
   "source": [
    "# need to be tuned:\n",
    "sequence_size = 10\n",
    "num_levels = 6\n",
    "min_samples_split = 1/(12*13*10)\n",
    "min_samples_leaf = 1/(12*13*100)"
   ]
  },
  {
   "cell_type": "markdown",
   "id": "2928511a-a14b-401d-995d-4721c1fe5b1b",
   "metadata": {},
   "source": [
    "Setting up dataloader"
   ]
  },
  {
   "cell_type": "code",
   "execution_count": 80,
   "id": "6eb4c471-dbfb-4276-8a30-f7ea61bcf3ce",
   "metadata": {},
   "outputs": [],
   "source": [
    "train_data = TimeSeriesDataset(train_dataa,sequence_size)\n",
    "# train_dataloader = DataLoader(dataset=train_data, batch_size = math.ceil(len(train_data)/(12*13)), shuffle=False, num_workers=2)\n",
    "train_dataloader = DataLoader(dataset=train_data, batch_size = 10000, shuffle=False, num_workers=2)"
   ]
  },
  {
   "cell_type": "markdown",
   "id": "99deb8c6-9e6b-4374-8cb5-8d892c065bf5",
   "metadata": {},
   "source": [
    "Converting the dataloader into an iterable"
   ]
  },
  {
   "cell_type": "code",
   "execution_count": 81,
   "id": "5e2d4def-fc3c-4d2a-bd22-054c552b1c6a",
   "metadata": {},
   "outputs": [],
   "source": [
    "dataiter = iter(train_dataloader)"
   ]
  },
  {
   "cell_type": "code",
   "execution_count": 82,
   "id": "e22c6fb2-58ff-4cb2-8a86-11b19c95b401",
   "metadata": {},
   "outputs": [],
   "source": [
    "data = next(dataiter)"
   ]
  },
  {
   "cell_type": "markdown",
   "id": "a50e6733-8381-48e8-b8a2-792e0a9cdc6f",
   "metadata": {},
   "source": [
    "Creating the tree classes"
   ]
  },
  {
   "cell_type": "code",
   "execution_count": 83,
   "id": "132680e7-718f-4b61-a87c-0aad871984ea",
   "metadata": {},
   "outputs": [],
   "source": [
    "# # Fit regression model\n",
    "# regr_1 = DecisionTreeRegressor(max_depth=2)\n",
    "# regr_2 = DecisionTreeRegressor(max_depth=5)\n",
    "# regr_1.fit(X, y)\n",
    "# regr_2.fit(X, y)\n",
    "\n",
    "# # Predict\n",
    "# X_test = np.arange(0.0, 5.0, 0.01)[:, np.newaxis]\n",
    "# y_1 = regr_1.predict(X_test)\n",
    "# y_2 = regr_2.predict(X_test)\n"
   ]
  },
  {
   "cell_type": "code",
   "execution_count": 84,
   "id": "aef26fc6-239b-4b50-8d17-22879f59571b",
   "metadata": {},
   "outputs": [],
   "source": [
    "tree6 = DecisionTreeRegressor(max_depth=num_levels, criterion='squared_error', min_samples_split=min_samples_split, min_samples_leaf=min_samples_leaf)\n",
    "\n",
    "tree2= DecisionTreeRegressor(max_depth=2, criterion='squared_error', min_samples_split=min_samples_split, min_samples_leaf=min_samples_leaf)\n",
    "\n",
    "tree5= DecisionTreeRegressor(max_depth=5, criterion='squared_error', min_samples_split=min_samples_split, min_samples_leaf=min_samples_leaf)\n",
    "\n",
    "tree4= DecisionTreeRegressor(max_depth=4, criterion='squared_error', min_samples_split=min_samples_split, min_samples_leaf=min_samples_leaf)\n",
    "\n",
    "tree7= DecisionTreeRegressor(max_depth=7, criterion='squared_error', min_samples_split=min_samples_split, min_samples_leaf=min_samples_leaf)"
   ]
  },
  {
   "cell_type": "markdown",
   "id": "9e87c555-b7b5-474e-bcb4-00ffb520e61d",
   "metadata": {},
   "source": [
    "Training Loop"
   ]
  },
  {
   "cell_type": "code",
   "execution_count": 85,
   "id": "89f02d0a-c04e-4a1d-9f0f-285b3db07a4d",
   "metadata": {},
   "outputs": [
    {
     "name": "stdout",
     "output_type": "stream",
     "text": [
      "2516544 25166\n"
     ]
    }
   ],
   "source": [
    "epochs = 2\n",
    "size = len(train_data)\n",
    "niters = math.ceil(size/100)\n",
    "print(size, niters)"
   ]
  },
  {
   "cell_type": "code",
   "execution_count": 92,
   "id": "a14d15f1-2430-41fa-8073-59ce55459ade",
   "metadata": {},
   "outputs": [
    {
     "name": "stdout",
     "output_type": "stream",
     "text": [
      "Epoch 0, Iteration 0, tree 2, train error: 690.1773010072923\n",
      "Epoch 0, Iteration 0, tree 4, train error: 54.49282938239146\n",
      "Epoch 0, Iteration 0, tree 5, train error: 14.30383394476473\n",
      "Epoch 0, Iteration 0, tree 6, train error: 3.2884347635210784\n",
      "Epoch 0, Iteration 0, tree 7, train error: 0.7774152713750636\n",
      "Epoch 0, Iteration 10, tree 2, train error: 685.5116643724209\n",
      "Epoch 0, Iteration 10, tree 4, train error: 55.63692406490146\n",
      "Epoch 0, Iteration 10, tree 5, train error: 13.797285788048871\n",
      "Epoch 0, Iteration 10, tree 6, train error: 3.3163461430428027\n",
      "Epoch 0, Iteration 10, tree 7, train error: 0.8002547093320581\n",
      "Epoch 0, Iteration 20, tree 2, train error: 702.9293569239989\n",
      "Epoch 0, Iteration 20, tree 4, train error: 57.72890163823642\n",
      "Epoch 0, Iteration 20, tree 5, train error: 15.117647234269313\n",
      "Epoch 0, Iteration 20, tree 6, train error: 3.578740474535975\n",
      "Epoch 0, Iteration 20, tree 7, train error: 0.8689433798812294\n",
      "Epoch 0, Iteration 30, tree 2, train error: 698.6787494409504\n",
      "Epoch 0, Iteration 30, tree 4, train error: 56.696820051860065\n",
      "Epoch 0, Iteration 30, tree 5, train error: 14.872555739224605\n",
      "Epoch 0, Iteration 30, tree 6, train error: 3.5489184340397477\n",
      "Epoch 0, Iteration 30, tree 7, train error: 0.7803533166560488\n",
      "Epoch 0, Iteration 40, tree 2, train error: 687.7367556942402\n",
      "Epoch 0, Iteration 40, tree 4, train error: 56.68023794789326\n",
      "Epoch 0, Iteration 40, tree 5, train error: 14.456421669889227\n",
      "Epoch 0, Iteration 40, tree 6, train error: 3.4712227613842472\n",
      "Epoch 0, Iteration 40, tree 7, train error: 0.8183565532693295\n",
      "Epoch 0, Iteration 50, tree 2, train error: 710.5944036122911\n",
      "Epoch 0, Iteration 50, tree 4, train error: 57.14526126438498\n",
      "Epoch 0, Iteration 50, tree 5, train error: 14.52843599367345\n",
      "Epoch 0, Iteration 50, tree 6, train error: 3.5326992200373426\n",
      "Epoch 0, Iteration 50, tree 7, train error: 0.8552361993501058\n",
      "Epoch 0, Iteration 60, tree 2, train error: 682.7842209893195\n",
      "Epoch 0, Iteration 60, tree 4, train error: 55.750438909001524\n",
      "Epoch 0, Iteration 60, tree 5, train error: 14.277610435939769\n",
      "Epoch 0, Iteration 60, tree 6, train error: 3.3632951487017877\n",
      "Epoch 0, Iteration 60, tree 7, train error: 0.7828818361700295\n",
      "Epoch 0, Iteration 70, tree 2, train error: 703.4711968558047\n",
      "Epoch 0, Iteration 70, tree 4, train error: 57.35738277170677\n",
      "Epoch 0, Iteration 70, tree 5, train error: 14.895334230863908\n",
      "Epoch 0, Iteration 70, tree 6, train error: 3.581901782945167\n",
      "Epoch 0, Iteration 70, tree 7, train error: 0.8383136657789136\n",
      "Epoch 0, Iteration 80, tree 2, train error: 688.2532005244369\n",
      "Epoch 0, Iteration 80, tree 4, train error: 56.51208891887383\n",
      "Epoch 0, Iteration 80, tree 5, train error: 15.082889382445314\n",
      "Epoch 0, Iteration 80, tree 6, train error: 3.4774745022922464\n",
      "Epoch 0, Iteration 80, tree 7, train error: 0.7921469359038913\n",
      "Epoch 0, Iteration 90, tree 2, train error: 700.6593516675176\n",
      "Epoch 0, Iteration 90, tree 4, train error: 56.55573802632084\n",
      "Epoch 0, Iteration 90, tree 5, train error: 15.202360627649695\n",
      "Epoch 0, Iteration 90, tree 6, train error: 3.631140666454251\n",
      "Epoch 0, Iteration 90, tree 7, train error: 0.8068208794517989\n",
      "Epoch 0, Iteration 100, tree 2, train error: 691.8015997260503\n",
      "Epoch 0, Iteration 100, tree 4, train error: 56.6683349892837\n",
      "Epoch 0, Iteration 100, tree 5, train error: 14.236115070815277\n",
      "Epoch 0, Iteration 100, tree 6, train error: 3.3202733268885307\n",
      "Epoch 0, Iteration 100, tree 7, train error: 0.7912135086636943\n",
      "Epoch 0, Iteration 110, tree 2, train error: 672.1355665239969\n",
      "Epoch 0, Iteration 110, tree 4, train error: 56.09328491175869\n",
      "Epoch 0, Iteration 110, tree 5, train error: 14.380233512908852\n",
      "Epoch 0, Iteration 110, tree 6, train error: 3.372752151221204\n",
      "Epoch 0, Iteration 110, tree 7, train error: 0.8179147222130861\n",
      "Epoch 0, Iteration 120, tree 2, train error: 707.3660182246192\n",
      "Epoch 0, Iteration 120, tree 4, train error: 58.3615315199498\n",
      "Epoch 0, Iteration 120, tree 5, train error: 14.369173425843256\n",
      "Epoch 0, Iteration 120, tree 6, train error: 3.6425457499102856\n",
      "Epoch 0, Iteration 120, tree 7, train error: 0.8290816676698843\n",
      "Epoch 0, Iteration 130, tree 2, train error: 696.4426049555352\n",
      "Epoch 0, Iteration 130, tree 4, train error: 57.98246015361338\n",
      "Epoch 0, Iteration 130, tree 5, train error: 14.728954096704937\n",
      "Epoch 0, Iteration 130, tree 6, train error: 3.5294120947830123\n",
      "Epoch 0, Iteration 130, tree 7, train error: 0.8105169746817208\n",
      "Epoch 0, Iteration 140, tree 2, train error: 686.8960700763153\n",
      "Epoch 0, Iteration 140, tree 4, train error: 56.71207197744951\n",
      "Epoch 0, Iteration 140, tree 5, train error: 14.269929956163836\n",
      "Epoch 0, Iteration 140, tree 6, train error: 3.381073221855052\n",
      "Epoch 0, Iteration 140, tree 7, train error: 0.7972557542601019\n",
      "Epoch 0, Iteration 150, tree 2, train error: 712.8785168240927\n",
      "Epoch 0, Iteration 150, tree 4, train error: 58.28313147477582\n",
      "Epoch 0, Iteration 150, tree 5, train error: 14.568047978778814\n",
      "Epoch 0, Iteration 150, tree 6, train error: 3.573829343914512\n",
      "Epoch 0, Iteration 150, tree 7, train error: 0.80688917447222\n",
      "Epoch 0, Iteration 160, tree 2, train error: 720.6309847334816\n",
      "Epoch 0, Iteration 160, tree 4, train error: 56.87070337837727\n",
      "Epoch 0, Iteration 160, tree 5, train error: 14.2503599001031\n",
      "Epoch 0, Iteration 160, tree 6, train error: 3.48364562563753\n",
      "Epoch 0, Iteration 160, tree 7, train error: 0.8303983153445271\n",
      "Epoch 0, Iteration 170, tree 2, train error: 685.1539212572364\n",
      "Epoch 0, Iteration 170, tree 4, train error: 56.422197593515556\n",
      "Epoch 0, Iteration 170, tree 5, train error: 14.382945867317426\n",
      "Epoch 0, Iteration 170, tree 6, train error: 3.3525628882385368\n",
      "Epoch 0, Iteration 170, tree 7, train error: 0.8253027224304311\n",
      "Epoch 0, Iteration 180, tree 2, train error: 699.5256086382534\n",
      "Epoch 0, Iteration 180, tree 4, train error: 57.381992357472576\n",
      "Epoch 0, Iteration 180, tree 5, train error: 14.496203544920311\n",
      "Epoch 0, Iteration 180, tree 6, train error: 3.4226991261301754\n",
      "Epoch 0, Iteration 180, tree 7, train error: 0.7922928138819372\n",
      "Epoch 0, Iteration 190, tree 2, train error: 686.0721641741515\n",
      "Epoch 0, Iteration 190, tree 4, train error: 56.52960793961267\n",
      "Epoch 0, Iteration 190, tree 5, train error: 14.405597531082513\n",
      "Epoch 0, Iteration 190, tree 6, train error: 3.2969852928164496\n",
      "Epoch 0, Iteration 190, tree 7, train error: 0.786901819751746\n",
      "Epoch 0, Iteration 200, tree 2, train error: 698.8981981096579\n",
      "Epoch 0, Iteration 200, tree 4, train error: 57.62789987917633\n",
      "Epoch 0, Iteration 200, tree 5, train error: 14.966819693141689\n",
      "Epoch 0, Iteration 200, tree 6, train error: 3.5983423562361816\n",
      "Epoch 0, Iteration 200, tree 7, train error: 0.8193536293712991\n",
      "Epoch 0, Iteration 210, tree 2, train error: 703.1084769840031\n",
      "Epoch 0, Iteration 210, tree 4, train error: 55.59669181349447\n",
      "Epoch 0, Iteration 210, tree 5, train error: 14.44733738125317\n",
      "Epoch 0, Iteration 210, tree 6, train error: 3.3591203696923273\n",
      "Epoch 0, Iteration 210, tree 7, train error: 0.8056269597781023\n",
      "Epoch 0, Iteration 220, tree 2, train error: 718.0132397508586\n",
      "Epoch 0, Iteration 220, tree 4, train error: 58.064341712438036\n",
      "Epoch 0, Iteration 220, tree 5, train error: 14.719904075630827\n",
      "Epoch 0, Iteration 220, tree 6, train error: 3.483093163122873\n",
      "Epoch 0, Iteration 220, tree 7, train error: 0.8651011268654331\n",
      "Epoch 0, Iteration 230, tree 2, train error: 688.2067490532786\n",
      "Epoch 0, Iteration 230, tree 4, train error: 57.292670695323835\n",
      "Epoch 0, Iteration 230, tree 5, train error: 14.66143163635348\n",
      "Epoch 0, Iteration 230, tree 6, train error: 3.465859359022622\n",
      "Epoch 0, Iteration 230, tree 7, train error: 0.8299521287777416\n",
      "Epoch 0, Iteration 240, tree 2, train error: 690.5979524347175\n",
      "Epoch 0, Iteration 240, tree 4, train error: 56.02946852604456\n",
      "Epoch 0, Iteration 240, tree 5, train error: 14.700923515597605\n",
      "Epoch 0, Iteration 240, tree 6, train error: 3.3691606350876753\n",
      "Epoch 0, Iteration 240, tree 7, train error: 0.841150884187323\n",
      "Epoch 0, Iteration 250, tree 2, train error: 692.3309126706803\n",
      "Epoch 0, Iteration 250, tree 4, train error: 56.02014108820987\n",
      "Epoch 0, Iteration 250, tree 5, train error: 14.056442156236587\n",
      "Epoch 0, Iteration 250, tree 6, train error: 3.356520011260611\n",
      "Epoch 0, Iteration 250, tree 7, train error: 0.8230758206511593\n",
      "epoch 0/2 completed\n"
     ]
    }
   ],
   "source": [
    "for ep in range(epochs):\n",
    "    for i, (x, y) in enumerate(train_dataloader):\n",
    "        tree2.fit(x,y)\n",
    "        tree4.fit(x,y)\n",
    "        tree5.fit(x,y)\n",
    "        tree6.fit(x,y)\n",
    "        tree7.fit(x,y)\n",
    "        if i%10==0:\n",
    "            ypred6 = tree6.predict(x)\n",
    "            ypred5 = tree5.predict(x)\n",
    "            ypred7 = tree7.predict(x)\n",
    "            ypred4 = tree4.predict(x)\n",
    "            ypred2 = tree2.predict(x)\n",
    "            err6 = mean_squared_error(y,ypred6)\n",
    "            err7 = mean_squared_error(y,ypred7)\n",
    "            err2 = mean_squared_error(y,ypred2)\n",
    "            err4 = mean_squared_error(y,ypred4)\n",
    "            err5 = mean_squared_error(y,ypred5)\n",
    "            print(f'Epoch {ep}, Iteration {i}, tree 2, train error: {err2}')\n",
    "            print(f'Epoch {ep}, Iteration {i}, tree 4, train error: {err4}')\n",
    "            print(f'Epoch {ep}, Iteration {i}, tree 5, train error: {err5}')\n",
    "            print(f'Epoch {ep}, Iteration {i}, tree 6, train error: {err6}')\n",
    "            print(f'Epoch {ep}, Iteration {i}, tree 7, train error: {err7}')\n",
    "    print(f'epoch {ep}/{epochs} completed')\n",
    "    break"
   ]
  },
  {
   "cell_type": "code",
   "execution_count": 93,
   "id": "12614e14-ab23-4a71-80ce-d74c030284cf",
   "metadata": {},
   "outputs": [
    {
     "data": {
      "text/plain": [
       "251"
      ]
     },
     "execution_count": 93,
     "metadata": {},
     "output_type": "execute_result"
    }
   ],
   "source": [
    "i"
   ]
  },
  {
   "cell_type": "markdown",
   "id": "db7a5db2-dae4-453c-b098-bc5d07329ed8",
   "metadata": {},
   "source": [
    "Testing Loop"
   ]
  },
  {
   "cell_type": "code",
   "execution_count": 94,
   "id": "c3aca053-adcb-44ef-8a0c-662c91d24864",
   "metadata": {},
   "outputs": [
    {
     "data": {
      "text/plain": [
       "139800"
      ]
     },
     "execution_count": 94,
     "metadata": {},
     "output_type": "execute_result"
    }
   ],
   "source": [
    "test_data = TimeSeriesDataset(test_dataa,sequence_size)\n",
    "test_dataloader = DataLoader(dataset=test_data, batch_size = 1, shuffle=False, num_workers = 3)\n",
    "len(test_data)"
   ]
  },
  {
   "cell_type": "code",
   "execution_count": 97,
   "id": "12e387c7-965e-4595-948c-8d30e937a766",
   "metadata": {},
   "outputs": [],
   "source": [
    "#calc error\n",
    "errs2 = torch.empty((len(test_data),1))\n",
    "errs4 = torch.empty((len(test_data),1))\n",
    "errs5 = torch.empty((len(test_data),1))\n",
    "errs6 = torch.empty((len(test_data),1))\n",
    "errs7 = torch.empty((len(test_data),1))\n",
    "\n",
    "for ep in range(1):\n",
    "    for i, (x,y) in enumerate(test_dataloader):\n",
    "        ypred6 = tree6.predict(x)\n",
    "        ypred5 = tree5.predict(x)\n",
    "        ypred7 = tree7.predict(x)\n",
    "        ypred4 = tree4.predict(x)\n",
    "        ypred2 = tree2.predict(x)\n",
    "        err6 = mean_squared_error(y,ypred6)\n",
    "        err7 = mean_squared_error(y,ypred7)\n",
    "        err2 = mean_squared_error(y,ypred2)\n",
    "        err4 = mean_squared_error(y,ypred4)\n",
    "        err5 = mean_squared_error(y,ypred5)\n",
    "        errs2[i] = err2\n",
    "        errs4[i] = err4\n",
    "        errs5[i] = err5\n",
    "        errs6[i] = err6\n",
    "        errs7[i] = err7"
   ]
  },
  {
   "cell_type": "code",
   "execution_count": 98,
   "id": "a3f827b2-185a-4cab-9877-5f7d5413e85a",
   "metadata": {},
   "outputs": [
    {
     "data": {
      "text/plain": [
       "139799"
      ]
     },
     "execution_count": 98,
     "metadata": {},
     "output_type": "execute_result"
    }
   ],
   "source": [
    "i"
   ]
  },
  {
   "cell_type": "code",
   "execution_count": 99,
   "id": "1d4d94e1-388e-46d1-9afb-a429430acef0",
   "metadata": {},
   "outputs": [
    {
     "name": "stdout",
     "output_type": "stream",
     "text": [
      "Tree2 max error: 7198.255859375, min error: 1.3514174668216583e-07, mean error: 698.7156982421875\n",
      "Tree4 max error: 864.1771240234375, min error: 4.42007070944328e-08, mean error: 56.838863372802734\n",
      "Tree5 max error: 238.28211975097656, min error: 0.0, mean error: 14.848798751831055\n",
      "Tree6 max error: 132.864013671875, min error: 0.0, mean error: 3.669567346572876\n",
      "Tree7 max error: 144.64068603515625, min error: 0.0, mean error: 0.9786754250526428\n"
     ]
    }
   ],
   "source": [
    "print(f'Tree2 max error: {torch.max(errs2)}, min error: {torch.min(errs2)}, mean error: {torch.sum(errs2)/i}')\n",
    "print(f'Tree4 max error: {torch.max(errs4)}, min error: {torch.min(errs4)}, mean error: {torch.sum(errs4)/i}')\n",
    "print(f'Tree5 max error: {torch.max(errs5)}, min error: {torch.min(errs5)}, mean error: {torch.sum(errs5)/i}')\n",
    "print(f'Tree6 max error: {torch.max(errs6)}, min error: {torch.min(errs6)}, mean error: {torch.sum(errs6)/i}')\n",
    "print(f'Tree7 max error: {torch.max(errs7)}, min error: {torch.min(errs7)}, mean error: {torch.sum(errs7)/i}')"
   ]
  },
  {
   "cell_type": "code",
   "execution_count": null,
   "id": "d2c32b7c-dd60-4c4a-ac5d-b8ea3cedc6c2",
   "metadata": {},
   "outputs": [],
   "source": []
  }
 ],
 "metadata": {
  "kernelspec": {
   "display_name": "Python 3 (ipykernel)",
   "language": "python",
   "name": "python3"
  },
  "language_info": {
   "codemirror_mode": {
    "name": "ipython",
    "version": 3
   },
   "file_extension": ".py",
   "mimetype": "text/x-python",
   "name": "python",
   "nbconvert_exporter": "python",
   "pygments_lexer": "ipython3",
   "version": "3.11.5"
  }
 },
 "nbformat": 4,
 "nbformat_minor": 5
}
