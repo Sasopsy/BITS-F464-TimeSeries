{
 "cells": [
  {
   "cell_type": "markdown",
   "id": "5fba63bd-3cc6-4c04-b9ab-002f475452b9",
   "metadata": {},
   "source": [
    "**DECISION TREE**"
   ]
  },
  {
   "cell_type": "markdown",
   "id": "556e4b32-fef8-45e5-9f3f-9fedfed8db99",
   "metadata": {},
   "source": [
    "Importing libraries"
   ]
  },
  {
   "cell_type": "code",
   "execution_count": 12,
   "id": "c705eb58-0bb4-421a-8f85-05e83f33142c",
   "metadata": {},
   "outputs": [],
   "source": [
    "import torch\n",
    "from torch.utils.data import Dataset\n",
    "import pandas as pd\n",
    "import numpy as np\n",
    "from dataset import TimeSeriesDataset\n",
    "from dataset import NumpyToTensor\n",
    "import sklearn "
   ]
  },
  {
   "cell_type": "markdown",
   "id": "03f79351-93a3-4026-9152-992a84fb096c",
   "metadata": {},
   "source": [
    "Importing data"
   ]
  },
  {
   "cell_type": "code",
   "execution_count": 7,
   "id": "6eb4c471-dbfb-4276-8a30-f7ea61bcf3ce",
   "metadata": {},
   "outputs": [],
   "source": [
    "train_data = pd.read_csv(\"data/train_delhi_aqi.csv\")\n",
    "test_data = pd.read_csv(\"data/test_delhi_aqi.csv\")\n",
    "val_data = pd.read_csv(\"data/val_delhi_aqi.csv\")"
   ]
  },
  {
   "cell_type": "code",
   "execution_count": 14,
   "id": "5600ad51-b334-407d-b6b7-17874e87ef6b",
   "metadata": {},
   "outputs": [
    {
     "data": {
      "text/plain": [
       "Index(['PM2_5', 'PM10', 'NO2', 'SO2', 'CO_ug', 'Ozone', 'Temp', 'RH', 'WS',\n",
       "       'BP', 'WD', 'AQI (PM2.5)'],\n",
       "      dtype='object')"
      ]
     },
     "execution_count": 14,
     "metadata": {},
     "output_type": "execute_result"
    }
   ],
   "source": [
    "train_data.columns"
   ]
  },
  {
   "cell_type": "code",
   "execution_count": null,
   "id": "e4da5aa9-a02b-474f-a684-08e303e59dae",
   "metadata": {},
   "outputs": [],
   "source": []
  }
 ],
 "metadata": {
  "kernelspec": {
   "display_name": "Python 3 (ipykernel)",
   "language": "python",
   "name": "python3"
  },
  "language_info": {
   "codemirror_mode": {
    "name": "ipython",
    "version": 3
   },
   "file_extension": ".py",
   "mimetype": "text/x-python",
   "name": "python",
   "nbconvert_exporter": "python",
   "pygments_lexer": "ipython3",
   "version": "3.11.5"
  }
 },
 "nbformat": 4,
 "nbformat_minor": 5
}
