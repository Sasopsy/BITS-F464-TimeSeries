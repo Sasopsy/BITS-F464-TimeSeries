{
 "cells": [
  {
   "cell_type": "markdown",
   "id": "5fba63bd-3cc6-4c04-b9ab-002f475452b9",
   "metadata": {},
   "source": [
    "**DECISION TREE**"
   ]
  },
  {
   "cell_type": "markdown",
   "id": "556e4b32-fef8-45e5-9f3f-9fedfed8db99",
   "metadata": {},
   "source": [
    "Importing libraries"
   ]
  },
  {
   "cell_type": "code",
   "execution_count": 112,
   "id": "c705eb58-0bb4-421a-8f85-05e83f33142c",
   "metadata": {},
   "outputs": [],
   "source": [
    "import torch\n",
    "import tensorflow as tf\n",
    "from torch.utils.data import Dataset, DataLoader\n",
    "import pandas as pd\n",
    "import numpy as np\n",
    "from dataset import TimeSeriesDataset\n",
    "from dataset import NumpyToTensor\n",
    "import sklearn\n",
    "from sklearn.tree import DecisionTreeRegressor\n",
    "import math\n",
    "from sklearn.metrics import mean_squared_error\n",
    "from sklearn.metrics import mean_absolute_error"
   ]
  },
  {
   "cell_type": "markdown",
   "id": "03f79351-93a3-4026-9152-992a84fb096c",
   "metadata": {},
   "source": [
    "Importing data"
   ]
  },
  {
   "cell_type": "code",
   "execution_count": 63,
   "id": "a20d694d-2031-4bd9-b223-aa06546c4bab",
   "metadata": {},
   "outputs": [],
   "source": [
    "train_dataa = pd.read_csv(\"data/train_delhi_aqi.csv\")\n",
    "test_dataa = pd.read_csv(\"data/test_delhi_aqi.csv\")"
   ]
  },
  {
   "cell_type": "code",
   "execution_count": 141,
   "id": "774f4538-72cf-4fdc-b3bc-c455fe101358",
   "metadata": {},
   "outputs": [],
   "source": [
    "# need to be tuned:\n",
    "sequence_size = 10\n",
    "num_levels = 6\n",
    "min_samples_split = 1/(13*6)\n",
    "min_samples_leaf = None"
   ]
  },
  {
   "cell_type": "markdown",
   "id": "2928511a-a14b-401d-995d-4721c1fe5b1b",
   "metadata": {},
   "source": [
    "Setting up dataloader"
   ]
  },
  {
   "cell_type": "code",
   "execution_count": 133,
   "id": "6eb4c471-dbfb-4276-8a30-f7ea61bcf3ce",
   "metadata": {},
   "outputs": [],
   "source": [
    "train_data = TimeSeriesDataset(train_dataa,sequence_size)\n",
    "# train_dataloader = DataLoader(dataset=train_data, batch_size = math.ceil(len(train_data)/(12*13)), shuffle=False, num_workers=2)\n",
    "train_dataloader = DataLoader(dataset=train_data, batch_size = 10000, shuffle=False, num_workers=2)"
   ]
  },
  {
   "cell_type": "markdown",
   "id": "99deb8c6-9e6b-4374-8cb5-8d892c065bf5",
   "metadata": {},
   "source": [
    "Converting the dataloader into an iterable"
   ]
  },
  {
   "cell_type": "code",
   "execution_count": 117,
   "id": "5e2d4def-fc3c-4d2a-bd22-054c552b1c6a",
   "metadata": {},
   "outputs": [],
   "source": [
    "dataiter = iter(train_dataloader)"
   ]
  },
  {
   "cell_type": "code",
   "execution_count": 118,
   "id": "e22c6fb2-58ff-4cb2-8a86-11b19c95b401",
   "metadata": {},
   "outputs": [],
   "source": [
    "data = next(dataiter)"
   ]
  },
  {
   "cell_type": "markdown",
   "id": "a50e6733-8381-48e8-b8a2-792e0a9cdc6f",
   "metadata": {},
   "source": [
    "Creating the tree classes"
   ]
  },
  {
   "cell_type": "code",
   "execution_count": 119,
   "id": "132680e7-718f-4b61-a87c-0aad871984ea",
   "metadata": {},
   "outputs": [],
   "source": [
    "# # Fit regression model\n",
    "# regr_1 = DecisionTreeRegressor(max_depth=2)\n",
    "# regr_2 = DecisionTreeRegressor(max_depth=5)\n",
    "# regr_1.fit(X, y)\n",
    "# regr_2.fit(X, y)\n",
    "\n",
    "# # Predict\n",
    "# X_test = np.arange(0.0, 5.0, 0.01)[:, np.newaxis]\n",
    "# y_1 = regr_1.predict(X_test)\n",
    "# y_2 = regr_2.predict(X_test)\n"
   ]
  },
  {
   "cell_type": "code",
   "execution_count": 142,
   "id": "aef26fc6-239b-4b50-8d17-22879f59571b",
   "metadata": {},
   "outputs": [],
   "source": [
    "tree6 = DecisionTreeRegressor(max_depth=10, criterion='absolute_error', min_samples_split=min_samples_split)#, min_samples_leaf=min_samples_leaf)\n",
    "\n",
    "# tree2= DecisionTreeRegressor(max_depth=2, criterion='squared_error', min_samples_split=min_samples_split, min_samples_leaf=min_samples_leaf)\n",
    "\n",
    "# tree5= DecisionTreeRegressor(max_depth=5, criterion='squared_error', min_samples_split=min_samples_split, min_samples_leaf=min_samples_leaf)\n",
    "\n",
    "tree10= DecisionTreeRegressor(max_depth=10, criterion='squared_error', min_samples_split=min_samples_split)#, min_samples_leaf=min_samples_leaf)\n",
    "\n",
    "tree7= DecisionTreeRegressor(max_depth=7, criterion='squared_error', min_samples_split=min_samples_split)#, min_samples_leaf=min_samples_leaf)"
   ]
  },
  {
   "cell_type": "markdown",
   "id": "9e87c555-b7b5-474e-bcb4-00ffb520e61d",
   "metadata": {},
   "source": [
    "Training Loop"
   ]
  },
  {
   "cell_type": "code",
   "execution_count": 143,
   "id": "89f02d0a-c04e-4a1d-9f0f-285b3db07a4d",
   "metadata": {},
   "outputs": [
    {
     "name": "stdout",
     "output_type": "stream",
     "text": [
      "2516544 25166\n"
     ]
    }
   ],
   "source": [
    "epochs = 2\n",
    "size = len(train_data)\n",
    "niters = math.ceil(size/100)\n",
    "print(size, niters)"
   ]
  },
  {
   "cell_type": "code",
   "execution_count": 144,
   "id": "a14d15f1-2430-41fa-8073-59ce55459ade",
   "metadata": {},
   "outputs": [
    {
     "name": "stdout",
     "output_type": "stream",
     "text": [
      "Epoch 0, Iteration 0, tree 10, train mse: 10.237296099826793, train mae: 1.036382143197756\n",
      "Epoch 0, Iteration 0, tree 6, train mse: 23.95106099028639, train mae: 1.1896237418879028\n",
      "Epoch 0, Iteration 0, tree 7, train mse: 10.425508837350513, train mae: 1.1953236649259904\n",
      "Epoch 0, Iteration 10, tree 10, train mse: 6.074373209692263, train mae: 1.0575142535169522\n",
      "Epoch 0, Iteration 10, tree 6, train mse: 8.143138055635601, train mae: 1.1127520863658094\n",
      "Epoch 0, Iteration 10, tree 7, train mse: 6.2581853606293105, train mae: 1.2111862552251755\n",
      "Epoch 0, Iteration 20, tree 10, train mse: 5.861055184130788, train mae: 1.0957834182709882\n",
      "Epoch 0, Iteration 20, tree 6, train mse: 4.602052706862529, train mae: 1.0026647104170117\n",
      "Epoch 0, Iteration 20, tree 7, train mse: 6.253591759522449, train mae: 1.3574515269271037\n",
      "Epoch 0, Iteration 30, tree 10, train mse: 11.4248718127926, train mae: 1.095246121558769\n",
      "Epoch 0, Iteration 30, tree 6, train mse: 12.634464466073744, train mae: 1.0733827357403989\n",
      "Epoch 0, Iteration 30, tree 7, train mse: 11.666712740235091, train mae: 1.2679796470447238\n",
      "Epoch 0, Iteration 40, tree 10, train mse: 2.7207082338937516, train mae: 0.8732090548221713\n",
      "Epoch 0, Iteration 40, tree 6, train mse: 2.939042545008178, train mae: 0.8347057886388095\n",
      "Epoch 0, Iteration 40, tree 7, train mse: 3.042462596051175, train mae: 1.1082838017917647\n"
     ]
    },
    {
     "ename": "KeyboardInterrupt",
     "evalue": "",
     "output_type": "error",
     "traceback": [
      "\u001b[1;31m---------------------------------------------------------------------------\u001b[0m",
      "\u001b[1;31mKeyboardInterrupt\u001b[0m                         Traceback (most recent call last)",
      "Cell \u001b[1;32mIn[144], line 6\u001b[0m\n\u001b[0;32m      4\u001b[0m tree10\u001b[38;5;241m.\u001b[39mfit(x,y)\n\u001b[0;32m      5\u001b[0m \u001b[38;5;66;03m# tree5.fit(x,y)\u001b[39;00m\n\u001b[1;32m----> 6\u001b[0m \u001b[43mtree6\u001b[49m\u001b[38;5;241;43m.\u001b[39;49m\u001b[43mfit\u001b[49m\u001b[43m(\u001b[49m\u001b[43mx\u001b[49m\u001b[43m,\u001b[49m\u001b[43my\u001b[49m\u001b[43m)\u001b[49m\n\u001b[0;32m      7\u001b[0m tree7\u001b[38;5;241m.\u001b[39mfit(x,y)\n\u001b[0;32m      8\u001b[0m \u001b[38;5;28;01mif\u001b[39;00m i\u001b[38;5;241m%\u001b[39m\u001b[38;5;241m10\u001b[39m\u001b[38;5;241m==\u001b[39m\u001b[38;5;241m0\u001b[39m:\n",
      "File \u001b[1;32m~\\AppData\\Local\\Programs\\Python\\Python311\\Lib\\site-packages\\sklearn\\base.py:1351\u001b[0m, in \u001b[0;36m_fit_context.<locals>.decorator.<locals>.wrapper\u001b[1;34m(estimator, *args, **kwargs)\u001b[0m\n\u001b[0;32m   1344\u001b[0m     estimator\u001b[38;5;241m.\u001b[39m_validate_params()\n\u001b[0;32m   1346\u001b[0m \u001b[38;5;28;01mwith\u001b[39;00m config_context(\n\u001b[0;32m   1347\u001b[0m     skip_parameter_validation\u001b[38;5;241m=\u001b[39m(\n\u001b[0;32m   1348\u001b[0m         prefer_skip_nested_validation \u001b[38;5;129;01mor\u001b[39;00m global_skip_validation\n\u001b[0;32m   1349\u001b[0m     )\n\u001b[0;32m   1350\u001b[0m ):\n\u001b[1;32m-> 1351\u001b[0m     \u001b[38;5;28;01mreturn\u001b[39;00m \u001b[43mfit_method\u001b[49m\u001b[43m(\u001b[49m\u001b[43mestimator\u001b[49m\u001b[43m,\u001b[49m\u001b[43m \u001b[49m\u001b[38;5;241;43m*\u001b[39;49m\u001b[43margs\u001b[49m\u001b[43m,\u001b[49m\u001b[43m \u001b[49m\u001b[38;5;241;43m*\u001b[39;49m\u001b[38;5;241;43m*\u001b[39;49m\u001b[43mkwargs\u001b[49m\u001b[43m)\u001b[49m\n",
      "File \u001b[1;32m~\\AppData\\Local\\Programs\\Python\\Python311\\Lib\\site-packages\\sklearn\\tree\\_classes.py:1377\u001b[0m, in \u001b[0;36mDecisionTreeRegressor.fit\u001b[1;34m(self, X, y, sample_weight, check_input)\u001b[0m\n\u001b[0;32m   1347\u001b[0m \u001b[38;5;129m@_fit_context\u001b[39m(prefer_skip_nested_validation\u001b[38;5;241m=\u001b[39m\u001b[38;5;28;01mTrue\u001b[39;00m)\n\u001b[0;32m   1348\u001b[0m \u001b[38;5;28;01mdef\u001b[39;00m \u001b[38;5;21mfit\u001b[39m(\u001b[38;5;28mself\u001b[39m, X, y, sample_weight\u001b[38;5;241m=\u001b[39m\u001b[38;5;28;01mNone\u001b[39;00m, check_input\u001b[38;5;241m=\u001b[39m\u001b[38;5;28;01mTrue\u001b[39;00m):\n\u001b[0;32m   1349\u001b[0m \u001b[38;5;250m    \u001b[39m\u001b[38;5;124;03m\"\"\"Build a decision tree regressor from the training set (X, y).\u001b[39;00m\n\u001b[0;32m   1350\u001b[0m \n\u001b[0;32m   1351\u001b[0m \u001b[38;5;124;03m    Parameters\u001b[39;00m\n\u001b[1;32m   (...)\u001b[0m\n\u001b[0;32m   1374\u001b[0m \u001b[38;5;124;03m        Fitted estimator.\u001b[39;00m\n\u001b[0;32m   1375\u001b[0m \u001b[38;5;124;03m    \"\"\"\u001b[39;00m\n\u001b[1;32m-> 1377\u001b[0m     \u001b[38;5;28;43msuper\u001b[39;49m\u001b[43m(\u001b[49m\u001b[43m)\u001b[49m\u001b[38;5;241;43m.\u001b[39;49m\u001b[43m_fit\u001b[49m\u001b[43m(\u001b[49m\n\u001b[0;32m   1378\u001b[0m \u001b[43m        \u001b[49m\u001b[43mX\u001b[49m\u001b[43m,\u001b[49m\n\u001b[0;32m   1379\u001b[0m \u001b[43m        \u001b[49m\u001b[43my\u001b[49m\u001b[43m,\u001b[49m\n\u001b[0;32m   1380\u001b[0m \u001b[43m        \u001b[49m\u001b[43msample_weight\u001b[49m\u001b[38;5;241;43m=\u001b[39;49m\u001b[43msample_weight\u001b[49m\u001b[43m,\u001b[49m\n\u001b[0;32m   1381\u001b[0m \u001b[43m        \u001b[49m\u001b[43mcheck_input\u001b[49m\u001b[38;5;241;43m=\u001b[39;49m\u001b[43mcheck_input\u001b[49m\u001b[43m,\u001b[49m\n\u001b[0;32m   1382\u001b[0m \u001b[43m    \u001b[49m\u001b[43m)\u001b[49m\n\u001b[0;32m   1383\u001b[0m     \u001b[38;5;28;01mreturn\u001b[39;00m \u001b[38;5;28mself\u001b[39m\n",
      "File \u001b[1;32m~\\AppData\\Local\\Programs\\Python\\Python311\\Lib\\site-packages\\sklearn\\tree\\_classes.py:472\u001b[0m, in \u001b[0;36mBaseDecisionTree._fit\u001b[1;34m(self, X, y, sample_weight, check_input, missing_values_in_feature_mask)\u001b[0m\n\u001b[0;32m    461\u001b[0m \u001b[38;5;28;01melse\u001b[39;00m:\n\u001b[0;32m    462\u001b[0m     builder \u001b[38;5;241m=\u001b[39m BestFirstTreeBuilder(\n\u001b[0;32m    463\u001b[0m         splitter,\n\u001b[0;32m    464\u001b[0m         min_samples_split,\n\u001b[1;32m   (...)\u001b[0m\n\u001b[0;32m    469\u001b[0m         \u001b[38;5;28mself\u001b[39m\u001b[38;5;241m.\u001b[39mmin_impurity_decrease,\n\u001b[0;32m    470\u001b[0m     )\n\u001b[1;32m--> 472\u001b[0m \u001b[43mbuilder\u001b[49m\u001b[38;5;241;43m.\u001b[39;49m\u001b[43mbuild\u001b[49m\u001b[43m(\u001b[49m\u001b[38;5;28;43mself\u001b[39;49m\u001b[38;5;241;43m.\u001b[39;49m\u001b[43mtree_\u001b[49m\u001b[43m,\u001b[49m\u001b[43m \u001b[49m\u001b[43mX\u001b[49m\u001b[43m,\u001b[49m\u001b[43m \u001b[49m\u001b[43my\u001b[49m\u001b[43m,\u001b[49m\u001b[43m \u001b[49m\u001b[43msample_weight\u001b[49m\u001b[43m,\u001b[49m\u001b[43m \u001b[49m\u001b[43mmissing_values_in_feature_mask\u001b[49m\u001b[43m)\u001b[49m\n\u001b[0;32m    474\u001b[0m \u001b[38;5;28;01mif\u001b[39;00m \u001b[38;5;28mself\u001b[39m\u001b[38;5;241m.\u001b[39mn_outputs_ \u001b[38;5;241m==\u001b[39m \u001b[38;5;241m1\u001b[39m \u001b[38;5;129;01mand\u001b[39;00m is_classifier(\u001b[38;5;28mself\u001b[39m):\n\u001b[0;32m    475\u001b[0m     \u001b[38;5;28mself\u001b[39m\u001b[38;5;241m.\u001b[39mn_classes_ \u001b[38;5;241m=\u001b[39m \u001b[38;5;28mself\u001b[39m\u001b[38;5;241m.\u001b[39mn_classes_[\u001b[38;5;241m0\u001b[39m]\n",
      "\u001b[1;31mKeyboardInterrupt\u001b[0m: "
     ]
    }
   ],
   "source": [
    "for ep in range(epochs):\n",
    "    for i, (x, y) in enumerate(train_dataloader):\n",
    "        # tree2.fit(x,y)\n",
    "        tree10.fit(x,y)\n",
    "        # tree5.fit(x,y)\n",
    "        tree6.fit(x,y)\n",
    "        tree7.fit(x,y)\n",
    "        if i%10==0:\n",
    "            ypred6 = tree6.predict(x)\n",
    "            # ypred5 = tree5.predict(x)\n",
    "            ypred7 = tree7.predict(x)\n",
    "            ypred10 = tree10.predict(x)\n",
    "            # ypred2 = tree2.predict(x)\n",
    "            err6 = mean_squared_error(y,ypred6)\n",
    "            err7 = mean_squared_error(y,ypred7)\n",
    "            # err2 = mean_squared_error(y,ypred2)\n",
    "            err10 = mean_squared_error(y,ypred10)\n",
    "            # err5 = mean_squared_error(y,ypred5)\n",
    "            # print(f'Epoch {ep}, Iteration {i}, tree 2, train error: {err2}')\n",
    "            print(f'Epoch {ep}, Iteration {i}, tree 10, train mse: {err10}, train mae: {mean_absolute_error(y,ypred10)}')\n",
    "            # print(f'Epoch {ep}, Iteration {i}, tree 5, train error: {err5}')\n",
    "            print(f'Epoch {ep}, Iteration {i}, tree 6, train mse: {err6}, train mae: {mean_absolute_error(y,ypred6)}')\n",
    "            print(f'Epoch {ep}, Iteration {i}, tree 7, train mse: {err7}, train mae: {mean_absolute_error(y,ypred7)}')\n",
    "    print(f'epoch {ep}/{epochs} completed')\n",
    "    break"
   ]
  },
  {
   "cell_type": "code",
   "execution_count": 145,
   "id": "12614e14-ab23-4a71-80ce-d74c030284cf",
   "metadata": {},
   "outputs": [
    {
     "data": {
      "text/plain": [
       "43"
      ]
     },
     "execution_count": 145,
     "metadata": {},
     "output_type": "execute_result"
    }
   ],
   "source": [
    "i"
   ]
  },
  {
   "cell_type": "markdown",
   "id": "db7a5db2-dae4-453c-b098-bc5d07329ed8",
   "metadata": {},
   "source": [
    "Testing Loop"
   ]
  },
  {
   "cell_type": "code",
   "execution_count": 146,
   "id": "dfc8fb13-bd73-496c-bbeb-9072973e27b8",
   "metadata": {},
   "outputs": [
    {
     "data": {
      "text/plain": [
       "139800"
      ]
     },
     "execution_count": 146,
     "metadata": {},
     "output_type": "execute_result"
    }
   ],
   "source": [
    "test_data = TimeSeriesDataset(test_dataa,sequence_size)\n",
    "test_dataloader = DataLoader(dataset=test_data, batch_size = 1, shuffle=False, num_workers = 3)\n",
    "len(test_data)"
   ]
  },
  {
   "cell_type": "code",
   "execution_count": 147,
   "id": "12e387c7-965e-4595-948c-8d30e937a766",
   "metadata": {},
   "outputs": [],
   "source": [
    "#calc error\n",
    "# errs2 = torch.empty((len(test_data),1))\n",
    "errs10 = torch.empty((len(test_data),1))\n",
    "# errs5 = torch.empty((len(test_data),1))\n",
    "errs6 = torch.empty((len(test_data),1))\n",
    "errs7 = torch.empty((len(test_data),1))\n",
    "# preds5 = np.empty((len(test_data),1))\n",
    "preds6 = np.empty((len(test_data),1))\n",
    "preds7 = np.empty((len(test_data),1))\n",
    "preds10 = np.empty((len(test_data),1))\n",
    "Y = torch.empty((len(test_data),1))\n",
    "for ep in range(1):\n",
    "    for i, (x,y) in enumerate(test_dataloader):\n",
    "        Y[i] = y\n",
    "        ypred6 = tree6.predict(x)\n",
    "        # preds5[i] = ypred6\n",
    "        # ypred5 = tree5.predict(x)\n",
    "        ypred6 = tree6.predict(x)\n",
    "        preds6[i] = ypred6\n",
    "        \n",
    "        ypred7 = tree7.predict(x)\n",
    "        preds7[i] = ypred7\n",
    "        \n",
    "        ypred10 = tree10.predict(x)\n",
    "        preds10[i] = ypred10\n",
    "        # ypred2 = tree2.predict(x)\n",
    "        err6 = mean_squared_error(y,ypred6)\n",
    "        err7 = mean_squared_error(y,ypred7)\n",
    "        # err2 = mean_squared_error(y,ypred2)\n",
    "        err10 = mean_squared_error(y,ypred10)\n",
    "        # err5 = mean_squared_error(y,ypred5)\n",
    "        # errs2[i] = mean_squared_error(y,ypred2)\n",
    "        errs10[i] = mean_squared_error(y,ypred10)\n",
    "        # errs5[i] = mean_squared_error(y,ypred5)\n",
    "        errs6[i] = mean_squared_error(y,ypred6)\n",
    "        errs7[i] = mean_squared_error(y,ypred7)"
   ]
  },
  {
   "cell_type": "code",
   "execution_count": 148,
   "id": "a3f827b2-185a-4cab-9877-5f7d5413e85a",
   "metadata": {},
   "outputs": [
    {
     "data": {
      "text/plain": [
       "139799"
      ]
     },
     "execution_count": 148,
     "metadata": {},
     "output_type": "execute_result"
    }
   ],
   "source": [
    "i"
   ]
  },
  {
   "cell_type": "code",
   "execution_count": 149,
   "id": "b5b4f865-a7c0-4ec8-b94b-59c75392a62e",
   "metadata": {},
   "outputs": [],
   "source": [
    "from sklearn.metrics import r2_score"
   ]
  },
  {
   "cell_type": "code",
   "execution_count": 151,
   "id": "1d4d94e1-388e-46d1-9afb-a429430acef0",
   "metadata": {},
   "outputs": [
    {
     "name": "stdout",
     "output_type": "stream",
     "text": [
      "Tree10 max error: 528.93505859375, min error: 3.958188478036949e-26, mean error: 4.260044097900391\n",
      "mse: 4.260014357405595, R2 score: 0.9988875690352995, mae: 0.8936441700657562\n",
      "\n",
      "\n",
      "Tree6 max error: 459.95989990234375, min error: 0.0, mean error: 3.3201146125793457\n",
      "mse: 3.3200905863768924, R2 score: 0.9991330142896172, mae: 0.687844762876988\n",
      "\n",
      "\n",
      "Tree7 max error: 614.0735473632812, min error: 6.127574891934273e-09, mean error: 2.6592984199523926\n",
      "mse: 2.6592790934287853, R2 score: 0.9993055740757849, mae: 0.7089702697786154\n"
     ]
    }
   ],
   "source": [
    "# print(f'Tree2 max error: {torch.max(errs2)}, min error: {torch.min(errs2)}, mean error: {torch.sum(errs2)/i}')\n",
    "print(f'Tree10 max error: {torch.max(errs10)}, min error: {torch.min(errs10)}, mean error: {torch.sum(errs10)/i}')\n",
    "print(f'mse: {mean_squared_error(Y,preds10)}, R2 score: {r2_score(Y,preds10)}, mae: {mean_absolute_error(Y,preds10)}')\n",
    "print('\\n')\n",
    "# print(f'Tree5 max error: {torch.max(errs5)}, min error: {torch.min(errs5)}, mean error: {torch.sum(errs5)/i}')\n",
    "# print(f'mean error using the entire set: {mean_squared_error(Y, preds5)}, R2 score: {r2_score(Y,preds5)}')\n",
    "# print('\\n')\n",
    "print(f'Tree6 max error: {torch.max(errs6)}, min error: {torch.min(errs6)}, mean error: {torch.sum(errs6)/i}')\n",
    "print(f'mse: {mean_squared_error(Y, preds6)}, R2 score: {r2_score(Y,preds6)}, mae: {mean_absolute_error(Y,preds6)}')\n",
    "print('\\n')\n",
    "print(f'Tree7 max error: {torch.max(errs7)}, min error: {torch.min(errs7)}, mean error: {torch.sum(errs7)/i}')\n",
    "print(f'mse: {mean_squared_error(Y, preds7)}, R2 score: {r2_score(Y,preds7)}, mae: {mean_absolute_error(Y,preds7)}')"
   ]
  },
  {
   "cell_type": "markdown",
   "id": "4870d9dd-a5c1-47b2-88c0-c73ca399fa16",
   "metadata": {},
   "source": [
    "Validation Set"
   ]
  },
  {
   "cell_type": "code",
   "execution_count": 152,
   "id": "636ef6e4-e247-4292-8afb-ae829a2e9d54",
   "metadata": {},
   "outputs": [
    {
     "data": {
      "text/plain": [
       "139800"
      ]
     },
     "execution_count": 152,
     "metadata": {},
     "output_type": "execute_result"
    }
   ],
   "source": [
    "valid = pd.read_csv(\"data/val_delhi_aqi.csv\")\n",
    "validation_data = TimeSeriesDataset(valid,sequence_size)\n",
    "validation_dataloader = DataLoader(dataset=validation_data, batch_size=1,shuffle=False, num_workers=3)\n",
    "len(validation_data)"
   ]
  },
  {
   "cell_type": "code",
   "execution_count": 157,
   "id": "e2b1d6e1-a3d4-4e01-84c1-a44d8d837da0",
   "metadata": {},
   "outputs": [],
   "source": [
    "#calc error\n",
    "# errs2 = torch.empty((len(test_data),1))\n",
    "errs10 = torch.empty((len(test_data),1))\n",
    "# errs5 = torch.empty((len(test_data),1))\n",
    "errs6 = torch.empty((len(test_data),1))\n",
    "errs7 = torch.empty((len(test_data),1))\n",
    "preds6 = np.empty((len(validation_data),1))\n",
    "preds7 = np.empty((len(validation_data),1))\n",
    "preds10 = np.empty((len(validation_data),1))\n",
    "Y = torch.empty((len(validation_data),1))"
   ]
  },
  {
   "cell_type": "code",
   "execution_count": 158,
   "id": "df82d720-063a-4146-950f-e0f909fc9828",
   "metadata": {},
   "outputs": [],
   "source": [
    "for i, (x,y) in enumerate(validation_dataloader):\n",
    "    Y[i] = y\n",
    "    ypred6 = tree6.predict(x)\n",
    "    preds6[i] = tree6.predict(x)\n",
    "    # ypred5 = tree5.predict(x)\n",
    "    ypred7 = tree7.predict(x)\n",
    "    preds7[i] = tree7.predict(x)\n",
    "    ypred10 = tree10.predict(x)\n",
    "    preds10[i] = tree10.predict(x)\n",
    "    # ypred2 = tree2.predict(x)\n",
    "    err6 = mean_squared_error(y,ypred6)\n",
    "    err7 = mean_squared_error(y,ypred7)\n",
    "    # err2 = mean_squared_error(y,ypred2)\n",
    "    err10 = mean_squared_error(y,ypred10)\n",
    "    # err5 = mean_squared_error(y,ypred5)\n",
    "    # errs2[i] = err2\n",
    "    errs10[i] = err10\n",
    "    # errs5[i] = err5\n",
    "    errs6[i] = err6\n",
    "    errs7[i] = err7"
   ]
  },
  {
   "cell_type": "code",
   "execution_count": 159,
   "id": "65d26a65-c39c-4120-9868-ff8c738b6d9e",
   "metadata": {},
   "outputs": [
    {
     "name": "stdout",
     "output_type": "stream",
     "text": [
      "Tree10 max error: 527.0202026367188, mse: 3.417086479706877, mae: 0.8919939604030835\n",
      "Tree6 max error: 455.9648132324219, mse: 4.975880368681624, mae: 0.9623823667236451\n",
      "Tree7 max error: 615.3961791992188, mse: 6.548977917847152, mae: 1.4542456354069127\n"
     ]
    }
   ],
   "source": [
    "# print(f'Tree2 max error: {torch.max(errs2)}, min error: {torch.min(errs2)}, mean error: {torch.sum(errs2)/i}')\n",
    "print(f'Tree10 max error: {torch.max(errs10)}, mse: {mean_squared_error(Y,preds10)}, mae: {mean_absolute_error(Y,preds10)}')\n",
    "# print(f'Tree5 max error: {torch.max(errs5)}, min error: {torch.min(errs5)}, mean error: {torch.sum(errs5)/i}')\n",
    "print(f'Tree6 max error: {torch.max(errs6)}, mse: {mean_squared_error(Y,preds6)}, mae: {mean_absolute_error(Y,preds6)}')\n",
    "print(f'Tree7 max error: {torch.max(errs7)}, mse: {mean_squared_error(Y,preds7)}, mae: {mean_absolute_error(Y,preds7)}')"
   ]
  },
  {
   "cell_type": "markdown",
   "id": "c0fa00bf-e77a-4042-90f6-0affc909ea44",
   "metadata": {},
   "source": [
    "**TREE10 IS THE FINAL TREE TO USE**"
   ]
  },
  {
   "cell_type": "code",
   "execution_count": 164,
   "id": "7988446a-599a-4727-9aba-f8290d218ae4",
   "metadata": {},
   "outputs": [
    {
     "data": {
      "text/plain": [
       "[<matplotlib.lines.Line2D at 0x1ba8ea24490>]"
      ]
     },
     "execution_count": 164,
     "metadata": {},
     "output_type": "execute_result"
    },
    {
     "data": {
      "image/png": "[encoded data removed]",
      "text/plain": [
       "<Figure size 640x480 with 2 Axes>"
      ]
     },
     "metadata": {},
     "output_type": "display_data"
    }
   ],
   "source": [
    "import matplotlib.pyplot as plt\n",
    "from sklearn.tree import plot_tree\n",
    "fig,ax = plt.subplots(2,1)\n",
    "ax[0].plot(range(i+1), Y.numpy())\n",
    "ax[1].plot(range(i+1), preds10)"
   ]
  },
  {
   "cell_type": "code",
   "execution_count": null,
   "id": "38b46499-304b-4a77-a8fb-e3f4da07076e",
   "metadata": {},
   "outputs": [],
   "source": []
  }
 ],
 "metadata": {
  "kernelspec": {
   "display_name": "Python 3 (ipykernel)",
   "language": "python",
   "name": "python3"
  },
  "language_info": {
   "codemirror_mode": {
    "name": "ipython",
    "version": 3
   },
   "file_extension": ".py",
   "mimetype": "text/x-python",
   "name": "python",
   "nbconvert_exporter": "python",
   "pygments_lexer": "ipython3",
   "version": "3.11.5"
  }
 },
 "nbformat": 4,
 "nbformat_minor": 5
}
