{
 "cells": [
  {
   "cell_type": "markdown",
   "id": "5fba63bd-3cc6-4c04-b9ab-002f475452b9",
   "metadata": {},
   "source": [
    "**DECISION TREE**"
   ]
  },
  {
   "cell_type": "markdown",
   "id": "556e4b32-fef8-45e5-9f3f-9fedfed8db99",
   "metadata": {},
   "source": [
    "Importing libraries"
   ]
  },
  {
   "cell_type": "code",
   "execution_count": 6,
   "id": "c705eb58-0bb4-421a-8f85-05e83f33142c",
   "metadata": {},
   "outputs": [],
   "source": [
    "import torch\n",
    "from torch.utils.data import Dataset\n",
    "import pandas as pd\n",
    "import numpy as np\n",
    "from dataset import TimeSeriesDataset\n",
    "from dataset import NumpyToTensor"
   ]
  },
  {
   "cell_type": "markdown",
   "id": "03f79351-93a3-4026-9152-992a84fb096c",
   "metadata": {},
   "source": [
    "Importing data"
   ]
  },
  {
   "cell_type": "code",
   "execution_count": 7,
   "id": "6eb4c471-dbfb-4276-8a30-f7ea61bcf3ce",
   "metadata": {},
   "outputs": [],
   "source": [
    "train_data = pd.read_csv(\"data/train_delhi_aqi.csv\")\n",
    "test_data = pd.read_csv(\"data/test_delhi_aqi.csv\")\n",
    "val_data = pd.read_csv(\"data/val_delhi_aqi.csv\")"
   ]
  },
  {
   "cell_type": "code",
   "execution_count": 11,
   "id": "5600ad51-b334-407d-b6b7-17874e87ef6b",
   "metadata": {},
   "outputs": [
    {
     "data": {
      "text/html": [
       "<div>\n",
       "<style scoped>\n",
       "    .dataframe tbody tr th:only-of-type {\n",
       "        vertical-align: middle;\n",
       "    }\n",
       "\n",
       "    .dataframe tbody tr th {\n",
       "        vertical-align: top;\n",
       "    }\n",
       "\n",
       "    .dataframe thead th {\n",
       "        text-align: right;\n",
       "    }\n",
       "</style>\n",
       "<table border=\"1\" class=\"dataframe\">\n",
       "  <thead>\n",
       "    <tr style=\"text-align: right;\">\n",
       "      <th></th>\n",
       "      <th>PM2_5</th>\n",
       "      <th>PM10</th>\n",
       "      <th>NO2</th>\n",
       "      <th>SO2</th>\n",
       "      <th>CO_ug</th>\n",
       "      <th>Ozone</th>\n",
       "      <th>Temp</th>\n",
       "      <th>RH</th>\n",
       "      <th>WS</th>\n",
       "      <th>BP</th>\n",
       "      <th>WD</th>\n",
       "      <th>AQI (PM2.5)</th>\n",
       "    </tr>\n",
       "  </thead>\n",
       "  <tbody>\n",
       "    <tr>\n",
       "      <th>31125</th>\n",
       "      <td>239.00</td>\n",
       "      <td>325.75</td>\n",
       "      <td>59.83</td>\n",
       "      <td>8.65</td>\n",
       "      <td>0.88</td>\n",
       "      <td>58.50</td>\n",
       "      <td>23.098722</td>\n",
       "      <td>78.08</td>\n",
       "      <td>1.30</td>\n",
       "      <td>988.10</td>\n",
       "      <td>346.37</td>\n",
       "      <td>288.600000</td>\n",
       "    </tr>\n",
       "    <tr>\n",
       "      <th>36812</th>\n",
       "      <td>35.77</td>\n",
       "      <td>50.43</td>\n",
       "      <td>28.75</td>\n",
       "      <td>4.15</td>\n",
       "      <td>0.63</td>\n",
       "      <td>23.37</td>\n",
       "      <td>23.098722</td>\n",
       "      <td>62.50</td>\n",
       "      <td>0.50</td>\n",
       "      <td>982.00</td>\n",
       "      <td>84.00</td>\n",
       "      <td>100.925001</td>\n",
       "    </tr>\n",
       "    <tr>\n",
       "      <th>56176</th>\n",
       "      <td>20.56</td>\n",
       "      <td>45.89</td>\n",
       "      <td>5.00</td>\n",
       "      <td>15.50</td>\n",
       "      <td>0.88</td>\n",
       "      <td>12.00</td>\n",
       "      <td>23.970000</td>\n",
       "      <td>76.75</td>\n",
       "      <td>0.68</td>\n",
       "      <td>1041.00</td>\n",
       "      <td>320.00</td>\n",
       "      <td>68.290597</td>\n",
       "    </tr>\n",
       "    <tr>\n",
       "      <th>66679</th>\n",
       "      <td>31.00</td>\n",
       "      <td>67.50</td>\n",
       "      <td>5.98</td>\n",
       "      <td>1.00</td>\n",
       "      <td>0.88</td>\n",
       "      <td>4.00</td>\n",
       "      <td>28.700000</td>\n",
       "      <td>97.97</td>\n",
       "      <td>0.34</td>\n",
       "      <td>991.52</td>\n",
       "      <td>228.25</td>\n",
       "      <td>90.598291</td>\n",
       "    </tr>\n",
       "    <tr>\n",
       "      <th>29992</th>\n",
       "      <td>80.63</td>\n",
       "      <td>350.94</td>\n",
       "      <td>70.74</td>\n",
       "      <td>0.90</td>\n",
       "      <td>0.88</td>\n",
       "      <td>17.35</td>\n",
       "      <td>18.590000</td>\n",
       "      <td>95.67</td>\n",
       "      <td>0.03</td>\n",
       "      <td>980.00</td>\n",
       "      <td>9.50</td>\n",
       "      <td>163.278946</td>\n",
       "    </tr>\n",
       "  </tbody>\n",
       "</table>\n",
       "</div>"
      ],
      "text/plain": [
       "        PM2_5    PM10    NO2    SO2  CO_ug  Ozone       Temp     RH    WS  \\\n",
       "31125  239.00  325.75  59.83   8.65   0.88  58.50  23.098722  78.08  1.30   \n",
       "36812   35.77   50.43  28.75   4.15   0.63  23.37  23.098722  62.50  0.50   \n",
       "56176   20.56   45.89   5.00  15.50   0.88  12.00  23.970000  76.75  0.68   \n",
       "66679   31.00   67.50   5.98   1.00   0.88   4.00  28.700000  97.97  0.34   \n",
       "29992   80.63  350.94  70.74   0.90   0.88  17.35  18.590000  95.67  0.03   \n",
       "\n",
       "            BP      WD  AQI (PM2.5)  \n",
       "31125   988.10  346.37   288.600000  \n",
       "36812   982.00   84.00   100.925001  \n",
       "56176  1041.00  320.00    68.290597  \n",
       "66679   991.52  228.25    90.598291  \n",
       "29992   980.00    9.50   163.278946  "
      ]
     },
     "execution_count": 11,
     "metadata": {},
     "output_type": "execute_result"
    }
   ],
   "source": [
    "train_data.head()"
   ]
  },
  {
   "cell_type": "code",
   "execution_count": null,
   "id": "e4da5aa9-a02b-474f-a684-08e303e59dae",
   "metadata": {},
   "outputs": [],
   "source": []
  }
 ],
 "metadata": {
  "kernelspec": {
   "display_name": "Python 3 (ipykernel)",
   "language": "python",
   "name": "python3"
  },
  "language_info": {
   "codemirror_mode": {
    "name": "ipython",
    "version": 3
   },
   "file_extension": ".py",
   "mimetype": "text/x-python",
   "name": "python",
   "nbconvert_exporter": "python",
   "pygments_lexer": "ipython3",
   "version": "3.11.5"
  }
 },
 "nbformat": 4,
 "nbformat_minor": 5
}
